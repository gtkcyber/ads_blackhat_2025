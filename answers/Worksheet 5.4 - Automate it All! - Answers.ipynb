{
 "cells": [
  {
   "cell_type": "markdown",
   "metadata": {},
   "source": [
    "<img src=\"../img/GTK_Logo_Social Icon.jpg\" width=175 align=\"right\" />\n",
    "\n",
    "#  Worksheet 5.4: Automate it All! - Answers\n",
    "This worksheet covers concepts relating to automating a machine learning model using the techniques we learned.  It should take no more than 20-30 minutes to complete.  Please raise your hand if you get stuck.  "
   ]
  },
  {
   "cell_type": "code",
   "execution_count": 6,
   "metadata": {},
   "outputs": [
    {
     "name": "stdout",
     "output_type": "stream",
     "text": [
      "Found existing installation: ydata-profiling 0.0.dev0\n",
      "Uninstalling ydata-profiling-0.0.dev0:\n",
      "  Would remove:\n",
      "    /opt/miniconda3/envs/gtk-bh-5-6v2/bin/pandas_profiling\n",
      "    /opt/miniconda3/envs/gtk-bh-5-6v2/bin/ydata_profiling\n",
      "    /opt/miniconda3/envs/gtk-bh-5-6v2/lib/python3.11/site-packages/pandas_profiling/*\n",
      "    /opt/miniconda3/envs/gtk-bh-5-6v2/lib/python3.11/site-packages/ydata_profiling-0.0.dev0.dist-info/*\n",
      "    /opt/miniconda3/envs/gtk-bh-5-6v2/lib/python3.11/site-packages/ydata_profiling/*\n",
      "Proceed (Y/n)? ^C\n",
      "\u001b[31mERROR: Operation cancelled by user\u001b[0m\u001b[31m\n",
      "\u001b[0m"
     ]
    }
   ],
   "source": [
    "!pip uninstall ydata-profiling"
   ]
  },
  {
   "cell_type": "code",
   "execution_count": 2,
   "metadata": {},
   "outputs": [
    {
     "name": "stdout",
     "output_type": "stream",
     "text": [
      "Collecting tpot\n",
      "  Downloading TPOT-1.1.0-py3-none-any.whl.metadata (1.9 kB)\n",
      "Collecting numpy>=1.26.4 (from tpot)\n",
      "  Downloading numpy-2.3.2-cp311-cp311-macosx_14_0_arm64.whl.metadata (62 kB)\n",
      "Requirement already satisfied: scipy>=1.3.1 in /opt/miniconda3/envs/gtk-bh-5-6v2/lib/python3.11/site-packages (from tpot) (1.11.4)\n",
      "Requirement already satisfied: scikit-learn>=1.6 in /opt/miniconda3/envs/gtk-bh-5-6v2/lib/python3.11/site-packages (from tpot) (1.7.1)\n",
      "Collecting update-checker>=0.16 (from tpot)\n",
      "  Downloading update_checker-0.18.0-py3-none-any.whl.metadata (2.3 kB)\n",
      "Requirement already satisfied: tqdm>=4.36.1 in /opt/miniconda3/envs/gtk-bh-5-6v2/lib/python3.11/site-packages (from tpot) (4.67.1)\n",
      "Collecting stopit>=1.1.1 (from tpot)\n",
      "  Downloading stopit-1.1.2.tar.gz (18 kB)\n",
      "  Preparing metadata (setup.py) ... \u001b[?25ldone\n",
      "\u001b[?25hCollecting pandas>=2.2.0 (from tpot)\n",
      "  Downloading pandas-2.3.1-cp311-cp311-macosx_11_0_arm64.whl.metadata (91 kB)\n",
      "Requirement already satisfied: joblib>=1.1.1 in /opt/miniconda3/envs/gtk-bh-5-6v2/lib/python3.11/site-packages (from tpot) (1.4.2)\n",
      "Collecting xgboost>=3.0.0 (from tpot)\n",
      "  Downloading xgboost-3.0.3-py3-none-macosx_12_0_arm64.whl.metadata (2.1 kB)\n",
      "Requirement already satisfied: matplotlib>=3.6.2 in /opt/miniconda3/envs/gtk-bh-5-6v2/lib/python3.11/site-packages (from tpot) (3.10.0)\n",
      "Requirement already satisfied: traitlets>=5.8.0 in /opt/miniconda3/envs/gtk-bh-5-6v2/lib/python3.11/site-packages (from tpot) (5.14.3)\n",
      "Collecting lightgbm>=3.3.3 (from tpot)\n",
      "  Downloading lightgbm-4.6.0-py3-none-macosx_12_0_arm64.whl.metadata (17 kB)\n",
      "Collecting optuna>=3.0.5 (from tpot)\n",
      "  Downloading optuna-4.4.0-py3-none-any.whl.metadata (17 kB)\n",
      "Requirement already satisfied: networkx>=3.0 in /opt/miniconda3/envs/gtk-bh-5-6v2/lib/python3.11/site-packages (from tpot) (3.4.2)\n",
      "Collecting dask>=2024.4.2 (from tpot)\n",
      "  Downloading dask-2025.7.0-py3-none-any.whl.metadata (3.8 kB)\n",
      "Collecting distributed>=2024.4.2 (from tpot)\n",
      "  Downloading distributed-2025.7.0-py3-none-any.whl.metadata (3.4 kB)\n",
      "Collecting dask-expr>=1.0.12 (from tpot)\n",
      "  Downloading dask_expr-2.0.0-py3-none-any.whl.metadata (2.3 kB)\n",
      "Collecting dask-jobqueue>=0.8.5 (from tpot)\n",
      "  Downloading dask_jobqueue-0.9.0-py2.py3-none-any.whl.metadata (1.3 kB)\n",
      "Collecting func-timeout>=4.3.5 (from tpot)\n",
      "  Downloading func_timeout-4.3.5.tar.gz (44 kB)\n",
      "  Preparing metadata (setup.py) ... \u001b[?25ldone\n",
      "\u001b[?25hCollecting configspace>=1.1.1 (from tpot)\n",
      "  Downloading configspace-1.2.1.tar.gz (130 kB)\n",
      "  Installing build dependencies ... \u001b[?25ldone\n",
      "\u001b[?25h  Getting requirements to build wheel ... \u001b[?25ldone\n",
      "\u001b[?25h  Preparing metadata (pyproject.toml) ... \u001b[?25ldone\n",
      "\u001b[?25hCollecting dill>=0.3.9 (from tpot)\n",
      "  Downloading dill-0.4.0-py3-none-any.whl.metadata (10 kB)\n",
      "Collecting seaborn>=0.13.2 (from tpot)\n",
      "  Downloading seaborn-0.13.2-py3-none-any.whl.metadata (5.4 kB)\n",
      "Requirement already satisfied: pyparsing in /opt/miniconda3/envs/gtk-bh-5-6v2/lib/python3.11/site-packages (from configspace>=1.1.1->tpot) (3.2.0)\n",
      "Requirement already satisfied: typing_extensions in /opt/miniconda3/envs/gtk-bh-5-6v2/lib/python3.11/site-packages (from configspace>=1.1.1->tpot) (4.12.2)\n",
      "Collecting more_itertools (from configspace>=1.1.1->tpot)\n",
      "  Downloading more_itertools-10.7.0-py3-none-any.whl.metadata (37 kB)\n",
      "Collecting click>=8.1 (from dask>=2024.4.2->tpot)\n",
      "  Downloading click-8.2.1-py3-none-any.whl.metadata (2.5 kB)\n",
      "Requirement already satisfied: cloudpickle>=3.0.0 in /opt/miniconda3/envs/gtk-bh-5-6v2/lib/python3.11/site-packages (from dask>=2024.4.2->tpot) (3.1.1)\n",
      "Collecting fsspec>=2021.09.0 (from dask>=2024.4.2->tpot)\n",
      "  Downloading fsspec-2025.7.0-py3-none-any.whl.metadata (12 kB)\n",
      "Requirement already satisfied: packaging>=20.0 in /opt/miniconda3/envs/gtk-bh-5-6v2/lib/python3.11/site-packages (from dask>=2024.4.2->tpot) (25.0)\n",
      "Collecting partd>=1.4.0 (from dask>=2024.4.2->tpot)\n",
      "  Downloading partd-1.4.2-py3-none-any.whl.metadata (4.6 kB)\n",
      "Requirement already satisfied: pyyaml>=5.3.1 in /opt/miniconda3/envs/gtk-bh-5-6v2/lib/python3.11/site-packages (from dask>=2024.4.2->tpot) (6.0.2)\n",
      "Collecting toolz>=0.10.0 (from dask>=2024.4.2->tpot)\n",
      "  Downloading toolz-1.0.0-py3-none-any.whl.metadata (5.1 kB)\n",
      "Collecting importlib_metadata>=4.13.0 (from dask>=2024.4.2->tpot)\n",
      "  Downloading importlib_metadata-8.7.0-py3-none-any.whl.metadata (4.8 kB)\n",
      "Requirement already satisfied: jinja2>=2.10.3 in /opt/miniconda3/envs/gtk-bh-5-6v2/lib/python3.11/site-packages (from distributed>=2024.4.2->tpot) (3.1.6)\n",
      "Collecting locket>=1.0.0 (from distributed>=2024.4.2->tpot)\n",
      "  Downloading locket-1.0.0-py2.py3-none-any.whl.metadata (2.8 kB)\n",
      "Collecting msgpack>=1.0.2 (from distributed>=2024.4.2->tpot)\n",
      "  Downloading msgpack-1.1.1-cp311-cp311-macosx_11_0_arm64.whl.metadata (8.4 kB)\n",
      "Requirement already satisfied: psutil>=5.8.0 in /opt/miniconda3/envs/gtk-bh-5-6v2/lib/python3.11/site-packages (from distributed>=2024.4.2->tpot) (5.9.0)\n",
      "Collecting sortedcontainers>=2.0.5 (from distributed>=2024.4.2->tpot)\n",
      "  Downloading sortedcontainers-2.4.0-py2.py3-none-any.whl.metadata (10 kB)\n",
      "Collecting tblib>=1.6.0 (from distributed>=2024.4.2->tpot)\n",
      "  Downloading tblib-3.1.0-py3-none-any.whl.metadata (25 kB)\n",
      "Requirement already satisfied: tornado>=6.2.0 in /opt/miniconda3/envs/gtk-bh-5-6v2/lib/python3.11/site-packages (from distributed>=2024.4.2->tpot) (6.5.1)\n",
      "Requirement already satisfied: urllib3>=1.26.5 in /opt/miniconda3/envs/gtk-bh-5-6v2/lib/python3.11/site-packages (from distributed>=2024.4.2->tpot) (2.5.0)\n",
      "Collecting zict>=3.0.0 (from distributed>=2024.4.2->tpot)\n",
      "  Downloading zict-3.0.0-py2.py3-none-any.whl.metadata (899 bytes)\n",
      "Collecting zipp>=3.20 (from importlib_metadata>=4.13.0->dask>=2024.4.2->tpot)\n",
      "  Downloading zipp-3.23.0-py3-none-any.whl.metadata (3.6 kB)\n",
      "Requirement already satisfied: MarkupSafe>=2.0 in /opt/miniconda3/envs/gtk-bh-5-6v2/lib/python3.11/site-packages (from jinja2>=2.10.3->distributed>=2024.4.2->tpot) (3.0.2)\n",
      "Requirement already satisfied: contourpy>=1.0.1 in /opt/miniconda3/envs/gtk-bh-5-6v2/lib/python3.11/site-packages (from matplotlib>=3.6.2->tpot) (1.3.1)\n",
      "Requirement already satisfied: cycler>=0.10 in /opt/miniconda3/envs/gtk-bh-5-6v2/lib/python3.11/site-packages (from matplotlib>=3.6.2->tpot) (0.11.0)\n",
      "Requirement already satisfied: fonttools>=4.22.0 in /opt/miniconda3/envs/gtk-bh-5-6v2/lib/python3.11/site-packages (from matplotlib>=3.6.2->tpot) (4.55.3)\n",
      "Requirement already satisfied: kiwisolver>=1.3.1 in /opt/miniconda3/envs/gtk-bh-5-6v2/lib/python3.11/site-packages (from matplotlib>=3.6.2->tpot) (1.4.8)\n",
      "Requirement already satisfied: pillow>=8 in /opt/miniconda3/envs/gtk-bh-5-6v2/lib/python3.11/site-packages (from matplotlib>=3.6.2->tpot) (11.3.0)\n",
      "Requirement already satisfied: python-dateutil>=2.7 in /opt/miniconda3/envs/gtk-bh-5-6v2/lib/python3.11/site-packages (from matplotlib>=3.6.2->tpot) (2.9.0.post0)\n",
      "Collecting alembic>=1.5.0 (from optuna>=3.0.5->tpot)\n",
      "  Downloading alembic-1.16.4-py3-none-any.whl.metadata (7.3 kB)\n",
      "Collecting colorlog (from optuna>=3.0.5->tpot)\n",
      "  Downloading colorlog-6.9.0-py3-none-any.whl.metadata (10 kB)\n",
      "Collecting sqlalchemy>=1.4.2 (from optuna>=3.0.5->tpot)\n",
      "  Downloading sqlalchemy-2.0.42-cp311-cp311-macosx_11_0_arm64.whl.metadata (9.6 kB)\n",
      "Collecting Mako (from alembic>=1.5.0->optuna>=3.0.5->tpot)\n",
      "  Downloading mako-1.3.10-py3-none-any.whl.metadata (2.9 kB)\n",
      "Requirement already satisfied: pytz>=2020.1 in /opt/miniconda3/envs/gtk-bh-5-6v2/lib/python3.11/site-packages (from pandas>=2.2.0->tpot) (2025.2)\n",
      "Requirement already satisfied: tzdata>=2022.7 in /opt/miniconda3/envs/gtk-bh-5-6v2/lib/python3.11/site-packages (from pandas>=2.2.0->tpot) (2025.2)\n",
      "Requirement already satisfied: six>=1.5 in /opt/miniconda3/envs/gtk-bh-5-6v2/lib/python3.11/site-packages (from python-dateutil>=2.7->matplotlib>=3.6.2->tpot) (1.17.0)\n",
      "Requirement already satisfied: threadpoolctl>=3.1.0 in /opt/miniconda3/envs/gtk-bh-5-6v2/lib/python3.11/site-packages (from scikit-learn>=1.6->tpot) (3.5.0)\n",
      "Collecting numpy>=1.26.4 (from tpot)\n",
      "  Downloading numpy-1.26.4-cp311-cp311-macosx_11_0_arm64.whl.metadata (114 kB)\n",
      "Requirement already satisfied: requests>=2.3.0 in /opt/miniconda3/envs/gtk-bh-5-6v2/lib/python3.11/site-packages (from update-checker>=0.16->tpot) (2.32.4)\n",
      "Requirement already satisfied: charset_normalizer<4,>=2 in /opt/miniconda3/envs/gtk-bh-5-6v2/lib/python3.11/site-packages (from requests>=2.3.0->update-checker>=0.16->tpot) (3.3.2)\n",
      "Requirement already satisfied: idna<4,>=2.5 in /opt/miniconda3/envs/gtk-bh-5-6v2/lib/python3.11/site-packages (from requests>=2.3.0->update-checker>=0.16->tpot) (3.7)\n",
      "Requirement already satisfied: certifi>=2017.4.17 in /opt/miniconda3/envs/gtk-bh-5-6v2/lib/python3.11/site-packages (from requests>=2.3.0->update-checker>=0.16->tpot) (2025.7.14)\n",
      "Downloading TPOT-1.1.0-py3-none-any.whl (215 kB)\n",
      "Downloading dask-2025.7.0-py3-none-any.whl (1.5 MB)\n",
      "\u001b[2K   \u001b[90m━━━━━━━━━━━━━━━━━━━━━━━━━━━━━━━━━━━━━━━━\u001b[0m \u001b[32m1.5/1.5 MB\u001b[0m \u001b[31m406.3 kB/s\u001b[0m eta \u001b[36m0:00:00\u001b[0ma \u001b[36m0:00:01\u001b[0m\n",
      "\u001b[?25hDownloading click-8.2.1-py3-none-any.whl (102 kB)\n",
      "Downloading dask_expr-2.0.0-py3-none-any.whl (3.2 kB)\n",
      "Downloading dask_jobqueue-0.9.0-py2.py3-none-any.whl (52 kB)\n",
      "Downloading dill-0.4.0-py3-none-any.whl (119 kB)\n",
      "Downloading distributed-2025.7.0-py3-none-any.whl (1.0 MB)\n",
      "\u001b[2K   \u001b[90m━━━━━━━━━━━━━━━━━━━━━━━━━━━━━━━━━━━━━━━━\u001b[0m \u001b[32m1.0/1.0 MB\u001b[0m \u001b[31m436.8 kB/s\u001b[0m eta \u001b[36m0:00:00\u001b[0ma \u001b[36m0:00:01\u001b[0m\n",
      "\u001b[?25hDownloading fsspec-2025.7.0-py3-none-any.whl (199 kB)\n",
      "Downloading importlib_metadata-8.7.0-py3-none-any.whl (27 kB)\n",
      "Downloading lightgbm-4.6.0-py3-none-macosx_12_0_arm64.whl (1.6 MB)\n",
      "\u001b[2K   \u001b[90m━━━━━━━━━━━━━━━━━━━━━━━━━━━━━━━━━━━━━━━━\u001b[0m \u001b[32m1.6/1.6 MB\u001b[0m \u001b[31m520.8 kB/s\u001b[0m eta \u001b[36m0:00:00\u001b[0ma \u001b[36m0:00:01\u001b[0m\n",
      "\u001b[?25hDownloading locket-1.0.0-py2.py3-none-any.whl (4.4 kB)\n",
      "Downloading msgpack-1.1.1-cp311-cp311-macosx_11_0_arm64.whl (79 kB)\n",
      "Downloading optuna-4.4.0-py3-none-any.whl (395 kB)\n",
      "Downloading alembic-1.16.4-py3-none-any.whl (247 kB)\n",
      "Downloading pandas-2.3.1-cp311-cp311-macosx_11_0_arm64.whl (10.8 MB)\n",
      "\u001b[2K   \u001b[90m━━━━━━━━━━━━━━━━━━━━━━━━━━━━━━━━━━━━━━━━\u001b[0m \u001b[32m10.8/10.8 MB\u001b[0m \u001b[31m447.2 kB/s\u001b[0m eta \u001b[36m0:00:00\u001b[0m00:01\u001b[0m00:01\u001b[0m\n",
      "\u001b[?25hDownloading partd-1.4.2-py3-none-any.whl (18 kB)\n",
      "Downloading numpy-1.26.4-cp311-cp311-macosx_11_0_arm64.whl (14.0 MB)\n",
      "\u001b[2K   \u001b[90m━━━━━━━━━━━━━━━━━━━━━━━━━━━━━━━━━━━━━━━━\u001b[0m \u001b[32m14.0/14.0 MB\u001b[0m \u001b[31m287.7 kB/s\u001b[0m eta \u001b[36m0:00:00\u001b[0m00:01\u001b[0m00:02\u001b[0m\n",
      "\u001b[?25hDownloading seaborn-0.13.2-py3-none-any.whl (294 kB)\n",
      "Downloading sortedcontainers-2.4.0-py2.py3-none-any.whl (29 kB)\n",
      "Downloading sqlalchemy-2.0.42-cp311-cp311-macosx_11_0_arm64.whl (2.1 MB)\n",
      "\u001b[2K   \u001b[90m━━━━━━━━━━━━━━━━━━━━━━━━━━━━━━━━━━━━━━━━\u001b[0m \u001b[32m2.1/2.1 MB\u001b[0m \u001b[31m288.1 kB/s\u001b[0m eta \u001b[36m0:00:00\u001b[0ma \u001b[36m0:00:02\u001b[0m\n",
      "\u001b[?25hDownloading tblib-3.1.0-py3-none-any.whl (12 kB)\n",
      "Downloading toolz-1.0.0-py3-none-any.whl (56 kB)\n",
      "Downloading update_checker-0.18.0-py3-none-any.whl (7.0 kB)\n",
      "Downloading xgboost-3.0.3-py3-none-macosx_12_0_arm64.whl (2.0 MB)\n",
      "\u001b[2K   \u001b[90m━━━━━━━━━━━━━━━━━━━━━━━━━━━━━━━━━━━━━━━━\u001b[0m \u001b[32m2.0/2.0 MB\u001b[0m \u001b[31m328.8 kB/s\u001b[0m eta \u001b[36m0:00:00\u001b[0ma \u001b[36m0:00:01\u001b[0m\n",
      "\u001b[?25hDownloading zict-3.0.0-py2.py3-none-any.whl (43 kB)\n",
      "Downloading zipp-3.23.0-py3-none-any.whl (10 kB)\n",
      "Downloading colorlog-6.9.0-py3-none-any.whl (11 kB)\n",
      "Downloading mako-1.3.10-py3-none-any.whl (78 kB)\n",
      "Downloading more_itertools-10.7.0-py3-none-any.whl (65 kB)\n",
      "Building wheels for collected packages: configspace, func-timeout, stopit\n",
      "  Building wheel for configspace (pyproject.toml) ... \u001b[?25ldone\n",
      "\u001b[?25h  Created wheel for configspace: filename=configspace-1.2.1-py3-none-any.whl size=115990 sha256=afb96741c8891bf82b083990e948ef784a5b258dd253824ca74b48c6af8ce088\n",
      "  Stored in directory: /Users/gtk/Library/Caches/pip/wheels/11/0f/36/d5027c3eeb038827889830f7efbe6a1bad8956b3eb44ab2f44\n",
      "\u001b[33m  DEPRECATION: Building 'func-timeout' using the legacy setup.py bdist_wheel mechanism, which will be removed in a future version. pip 25.3 will enforce this behaviour change. A possible replacement is to use the standardized build interface by setting the `--use-pep517` option, (possibly combined with `--no-build-isolation`), or adding a `pyproject.toml` file to the source tree of 'func-timeout'. Discussion can be found at https://github.com/pypa/pip/issues/6334\u001b[0m\u001b[33m\n",
      "\u001b[0m  Building wheel for func-timeout (setup.py) ... \u001b[?25ldone\n",
      "\u001b[?25h  Created wheel for func-timeout: filename=func_timeout-4.3.5-py3-none-any.whl size=15161 sha256=fd1bd0e388d810fcc184130e0348d2c46fde22a3dbaf1342a580096d3d17295d\n",
      "  Stored in directory: /Users/gtk/Library/Caches/pip/wheels/07/e6/86/f23164d12c3134966614102db8e7956ab359faf7ffd78703ce\n",
      "\u001b[33m  DEPRECATION: Building 'stopit' using the legacy setup.py bdist_wheel mechanism, which will be removed in a future version. pip 25.3 will enforce this behaviour change. A possible replacement is to use the standardized build interface by setting the `--use-pep517` option, (possibly combined with `--no-build-isolation`), or adding a `pyproject.toml` file to the source tree of 'stopit'. Discussion can be found at https://github.com/pypa/pip/issues/6334\u001b[0m\u001b[33m\n",
      "\u001b[0m  Building wheel for stopit (setup.py) ... \u001b[?25ldone\n",
      "\u001b[?25h  Created wheel for stopit: filename=stopit-1.1.2-py3-none-any.whl size=11985 sha256=546fd83b0a04cf8a808e2c01d2d286fed890ee96a2cbf6ad64cb6fffa372eb66\n",
      "  Stored in directory: /Users/gtk/Library/Caches/pip/wheels/da/77/2d/adbc56bc4db95ad80c6d4e71cd69e2d9d122174904342e3f7f\n",
      "Successfully built configspace func-timeout stopit\n",
      "Installing collected packages: stopit, sortedcontainers, func-timeout, zipp, zict, toolz, tblib, sqlalchemy, numpy, msgpack, more_itertools, Mako, locket, fsspec, dill, colorlog, click, update-checker, partd, pandas, importlib_metadata, alembic, xgboost, optuna, lightgbm, dask, configspace, seaborn, distributed, dask-expr, dask-jobqueue, tpot\n",
      "\u001b[2K  Attempting uninstall: numpym\u001b[90m━━━━━━━━━━━━━━━━━━━━━━━━━━━━━━━\u001b[0m \u001b[32m 7/32\u001b[0m [sqlalchemy]\n",
      "\u001b[2K    Found existing installation: numpy 1.24.3━━━━━━━━━━━━━━━━━\u001b[0m \u001b[32m 7/32\u001b[0m [sqlalchemy]\n",
      "\u001b[2K    Uninstalling numpy-1.24.3:m━━━━━━━━━━━━━━━━━━━━━━━━━━━━━━━\u001b[0m \u001b[32m 7/32\u001b[0m [sqlalchemy]\n",
      "\u001b[2K      Successfully uninstalled numpy-1.24.3━━━━━━━━━━━━━━━━━━━\u001b[0m \u001b[32m 7/32\u001b[0m [sqlalchemy]\n",
      "\u001b[2K  Attempting uninstall: pandas90m╺\u001b[0m\u001b[90m━━━━━━━━━━━━━━━━━━━━━━━\u001b[0m \u001b[32m13/32\u001b[0m [fsspec]\n",
      "\u001b[2K    Found existing installation: pandas 2.0.3━━━━━━━━━━━━━━━━━\u001b[0m \u001b[32m13/32\u001b[0m [fsspec]\n",
      "\u001b[2K    Uninstalling pandas-2.0.3:\u001b[0m\u001b[90m━━━━━━━━━━━━━━━━━━━━━━━\u001b[0m \u001b[32m13/32\u001b[0m [fsspec]\n",
      "\u001b[2K      Successfully uninstalled pandas-2.0.3━━━━━━━━━━━━━━━━━━━\u001b[0m \u001b[32m13/32\u001b[0m [fsspec]\n",
      "\u001b[2K  Attempting uninstall: seaborn━━━━━━━━\u001b[0m\u001b[90m╺\u001b[0m\u001b[90m━━━━━━━━\u001b[0m \u001b[32m25/32\u001b[0m [dask]a]]\n",
      "\u001b[2K    Found existing installation: seaborn 0.12.20m\u001b[90m━━━━━━━━\u001b[0m \u001b[32m25/32\u001b[0m [dask]\n",
      "\u001b[2K    Uninstalling seaborn-0.12.2:━━━\u001b[0m\u001b[90m╺\u001b[0m\u001b[90m━━━━━━━━\u001b[0m \u001b[32m25/32\u001b[0m [dask]\n",
      "\u001b[2K      Successfully uninstalled seaborn-0.12.2\u001b[0m\u001b[90m━━━━━━━━\u001b[0m \u001b[32m25/32\u001b[0m [dask]\n",
      "\u001b[2K   \u001b[90m━━━━━━━━━━━━━━━━━━━━━━━━━━━━━━━━━━━━━━━━\u001b[0m \u001b[32m32/32\u001b[0m [tpot]2m28/32\u001b[0m [distributed]\n",
      "\u001b[1A\u001b[2K\u001b[31mERROR: pip's dependency resolver does not currently take into account all the packages that are installed. This behaviour is the source of the following dependency conflicts.\n",
      "ydata-profiling 0.0.dev0 requires numpy<1.24,>=1.16.0, but you have numpy 1.26.4 which is incompatible.\n",
      "ydata-profiling 0.0.dev0 requires pandas!=1.4.0,<2.1,>1.1, but you have pandas 2.3.1 which is incompatible.\n",
      "ydata-profiling 0.0.dev0 requires seaborn<0.13,>=0.10.1, but you have seaborn 0.13.2 which is incompatible.\n",
      "ydata-profiling 0.0.dev0 requires typeguard<3,>=2.13.2, but you have typeguard 4.2.1 which is incompatible.\u001b[0m\u001b[31m\n",
      "\u001b[0mSuccessfully installed Mako-1.3.10 alembic-1.16.4 click-8.2.1 colorlog-6.9.0 configspace-1.2.1 dask-2025.7.0 dask-expr-2.0.0 dask-jobqueue-0.9.0 dill-0.4.0 distributed-2025.7.0 fsspec-2025.7.0 func-timeout-4.3.5 importlib_metadata-8.7.0 lightgbm-4.6.0 locket-1.0.0 more_itertools-10.7.0 msgpack-1.1.1 numpy-1.26.4 optuna-4.4.0 pandas-2.3.1 partd-1.4.2 seaborn-0.13.2 sortedcontainers-2.4.0 sqlalchemy-2.0.42 stopit-1.1.2 tblib-3.1.0 toolz-1.0.0 tpot-1.1.0 update-checker-0.18.0 xgboost-3.0.3 zict-3.0.0 zipp-3.23.0\n"
     ]
    }
   ],
   "source": [
    "!pip install tpot"
   ]
  },
  {
   "cell_type": "code",
   "execution_count": 1,
   "metadata": {
    "ExecuteTime": {
     "end_time": "2022-12-06T15:30:58.633642Z",
     "start_time": "2022-12-06T15:30:58.628720Z"
    }
   },
   "outputs": [],
   "source": [
    "# Load Libraries - Make sure to run this cell!\n",
    "import pandas as pd\n",
    "from sklearn.model_selection import train_test_split\n",
    "from sklearn.preprocessing import LabelEncoder\n",
    "\n",
    "from sklearn.metrics import classification_report, confusion_matrix, ConfusionMatrixDisplay\n",
    "import matplotlib.pyplot as plt\n",
    "from tpot import TPOTClassifier\n",
    "import joblib"
   ]
  },
  {
   "cell_type": "markdown",
   "metadata": {},
   "source": [
    "## Step One:  Import the Data\n",
    "In this example, we're going to use the dataset we used in worksheet 5.3.  Run the following code to read in the data, extract the features and target vector."
   ]
  },
  {
   "cell_type": "code",
   "execution_count": 2,
   "metadata": {
    "ExecuteTime": {
     "end_time": "2022-12-06T15:31:08.085467Z",
     "start_time": "2022-12-06T15:31:08.077723Z"
    }
   },
   "outputs": [],
   "source": [
    "df = pd.read_csv('../data/dga_features_final_df.csv')\n",
    "target = df['isDGA']\n",
    "feature_matrix = df.drop(['isDGA'], axis='columns')"
   ]
  },
  {
   "cell_type": "markdown",
   "metadata": {},
   "source": [
    "Next, perform the test/train split in the conventional manner."
   ]
  },
  {
   "cell_type": "code",
   "execution_count": 3,
   "metadata": {
    "ExecuteTime": {
     "end_time": "2022-12-06T15:31:09.387399Z",
     "start_time": "2022-12-06T15:31:09.382505Z"
    }
   },
   "outputs": [],
   "source": [
    "feature_matrix_train, feature_matrix_test, target_train, target_test = train_test_split(feature_matrix, \n",
    "                                                                                        target, \n",
    "                                                                                        test_size=0.25)"
   ]
  },
  {
   "cell_type": "markdown",
   "metadata": {},
   "source": [
    "## Step Two:  Run the Optimizer\n",
    "In the next step, use TPOT to create a classification pipeline using the DGA data set that we have been using.  The `TPOTClassifier()` has many configuration options and in the interest of time, please set the following variables when you instantiate the classifier.\n",
    "\n",
    "* `max_eval_time_mins`:  In the interests of time, set this to 15 or 20.\n",
    "* `verbosity`: Set to 1 or 2 so you can see what TPOT is doing.\n",
    "\n",
    "\n",
    "**Note:  This step will take some time, so you might want to get some coffee or a snack when it is running.**  While this is running take a look at the other configuration options available here: http://epistasislab.github.io/tpot/api/.  "
   ]
  },
  {
   "cell_type": "code",
   "execution_count": 4,
   "metadata": {},
   "outputs": [
    {
     "name": "stdout",
     "output_type": "stream",
     "text": [
      "orig target\n",
      "  588       dga\n",
      "1653    legit\n",
      "575       dga\n",
      "225       dga\n",
      "865       dga\n",
      "Name: isDGA, dtype: object\n",
      "\n",
      "\n",
      "encoded target\n",
      "  [0 1 0 0 0]\n"
     ]
    }
   ],
   "source": [
    "# encode labels\n",
    "target_encoded = LabelEncoder().fit_transform(target_train)\n",
    "print('orig target\\n ',target_train[0:5] )\n",
    "print('\\n')\n",
    "print('encoded target\\n ', target_encoded[0:5])"
   ]
  },
  {
   "cell_type": "code",
   "execution_count": 5,
   "metadata": {
    "ExecuteTime": {
     "start_time": "2022-12-06T15:31:28.473Z"
    }
   },
   "outputs": [
    {
     "ename": "TimeoutError",
     "evalue": "No valid workers found",
     "output_type": "error",
     "traceback": [
      "\u001b[31m---------------------------------------------------------------------------\u001b[39m",
      "\u001b[31mTimeoutError\u001b[39m                              Traceback (most recent call last)",
      "\u001b[36mCell\u001b[39m\u001b[36m \u001b[39m\u001b[32mIn[5]\u001b[39m\u001b[32m, line 2\u001b[39m\n\u001b[32m      1\u001b[39m optimizer = TPOTClassifier(n_jobs=-\u001b[32m1\u001b[39m, max_eval_time_mins=\u001b[32m1\u001b[39m)\n\u001b[32m----> \u001b[39m\u001b[32m2\u001b[39m optimizer.fit(feature_matrix_train, target_encoded)\n",
      "\u001b[36mFile \u001b[39m\u001b[32m/opt/miniconda3/envs/gtk-bh-5-6v2/lib/python3.11/site-packages/tpot/tpot_estimator/templates/tpottemplates.py:568\u001b[39m, in \u001b[36mTPOTClassifier.fit\u001b[39m\u001b[34m(self, X, y)\u001b[39m\n\u001b[32m    540\u001b[39m     \u001b[38;5;28msuper\u001b[39m(TPOTClassifier,\u001b[38;5;28mself\u001b[39m).\u001b[34m__init__\u001b[39m(\n\u001b[32m    541\u001b[39m         search_space=search_space,\n\u001b[32m    542\u001b[39m         scorers=\u001b[38;5;28mself\u001b[39m.scorers, \n\u001b[32m   (...)\u001b[39m\u001b[32m    564\u001b[39m         random_state=\u001b[38;5;28mself\u001b[39m.random_state,\n\u001b[32m    565\u001b[39m         **\u001b[38;5;28mself\u001b[39m.tpotestimator_kwargs)\n\u001b[32m    566\u001b[39m     \u001b[38;5;28mself\u001b[39m.initialized = \u001b[38;5;28;01mTrue\u001b[39;00m\n\u001b[32m--> \u001b[39m\u001b[32m568\u001b[39m \u001b[38;5;28;01mreturn\u001b[39;00m \u001b[38;5;28msuper\u001b[39m().fit(X,y)\n",
      "\u001b[36mFile \u001b[39m\u001b[32m/opt/miniconda3/envs/gtk-bh-5-6v2/lib/python3.11/site-packages/tpot/tpot_estimator/estimator.py:665\u001b[39m, in \u001b[36mTPOTEstimator.fit\u001b[39m\u001b[34m(self, X, y)\u001b[39m\n\u001b[32m    662\u001b[39m     evaluation_early_stop_steps = \u001b[38;5;28;01mNone\u001b[39;00m\n\u001b[32m    664\u001b[39m \u001b[38;5;28;01mif\u001b[39;00m \u001b[38;5;28mself\u001b[39m.scatter:\n\u001b[32m--> \u001b[39m\u001b[32m665\u001b[39m     X_future = _client.scatter(X)\n\u001b[32m    666\u001b[39m     y_future = _client.scatter(y)\n\u001b[32m    667\u001b[39m \u001b[38;5;28;01melse\u001b[39;00m:\n",
      "\u001b[36mFile \u001b[39m\u001b[32m/opt/miniconda3/envs/gtk-bh-5-6v2/lib/python3.11/site-packages/distributed/client.py:2775\u001b[39m, in \u001b[36mClient.scatter\u001b[39m\u001b[34m(self, data, workers, broadcast, direct, hash, timeout, asynchronous)\u001b[39m\n\u001b[32m   2773\u001b[39m \u001b[38;5;28;01mexcept\u001b[39;00m \u001b[38;5;167;01mValueError\u001b[39;00m:\n\u001b[32m   2774\u001b[39m     local_worker = \u001b[38;5;28;01mNone\u001b[39;00m\n\u001b[32m-> \u001b[39m\u001b[32m2775\u001b[39m \u001b[38;5;28;01mreturn\u001b[39;00m \u001b[38;5;28mself\u001b[39m.sync(\n\u001b[32m   2776\u001b[39m     \u001b[38;5;28mself\u001b[39m._scatter,\n\u001b[32m   2777\u001b[39m     data,\n\u001b[32m   2778\u001b[39m     workers=workers,\n\u001b[32m   2779\u001b[39m     broadcast=broadcast,\n\u001b[32m   2780\u001b[39m     direct=direct,\n\u001b[32m   2781\u001b[39m     local_worker=local_worker,\n\u001b[32m   2782\u001b[39m     timeout=timeout,\n\u001b[32m   2783\u001b[39m     asynchronous=asynchronous,\n\u001b[32m   2784\u001b[39m     \u001b[38;5;28mhash\u001b[39m=\u001b[38;5;28mhash\u001b[39m,\n\u001b[32m   2785\u001b[39m )\n",
      "\u001b[36mFile \u001b[39m\u001b[32m/opt/miniconda3/envs/gtk-bh-5-6v2/lib/python3.11/site-packages/distributed/utils.py:376\u001b[39m, in \u001b[36mSyncMethodMixin.sync\u001b[39m\u001b[34m(self, func, asynchronous, callback_timeout, *args, **kwargs)\u001b[39m\n\u001b[32m    374\u001b[39m     \u001b[38;5;28;01mreturn\u001b[39;00m future\n\u001b[32m    375\u001b[39m \u001b[38;5;28;01melse\u001b[39;00m:\n\u001b[32m--> \u001b[39m\u001b[32m376\u001b[39m     \u001b[38;5;28;01mreturn\u001b[39;00m sync(\n\u001b[32m    377\u001b[39m         \u001b[38;5;28mself\u001b[39m.loop, func, *args, callback_timeout=callback_timeout, **kwargs\n\u001b[32m    378\u001b[39m     )\n",
      "\u001b[36mFile \u001b[39m\u001b[32m/opt/miniconda3/envs/gtk-bh-5-6v2/lib/python3.11/site-packages/distributed/utils.py:452\u001b[39m, in \u001b[36msync\u001b[39m\u001b[34m(loop, func, callback_timeout, *args, **kwargs)\u001b[39m\n\u001b[32m    449\u001b[39m         wait(\u001b[32m10\u001b[39m)\n\u001b[32m    451\u001b[39m \u001b[38;5;28;01mif\u001b[39;00m error \u001b[38;5;129;01mis\u001b[39;00m \u001b[38;5;129;01mnot\u001b[39;00m \u001b[38;5;28;01mNone\u001b[39;00m:\n\u001b[32m--> \u001b[39m\u001b[32m452\u001b[39m     \u001b[38;5;28;01mraise\u001b[39;00m error\n\u001b[32m    453\u001b[39m \u001b[38;5;28;01melse\u001b[39;00m:\n\u001b[32m    454\u001b[39m     \u001b[38;5;28;01mreturn\u001b[39;00m result\n",
      "\u001b[36mFile \u001b[39m\u001b[32m/opt/miniconda3/envs/gtk-bh-5-6v2/lib/python3.11/site-packages/distributed/utils.py:426\u001b[39m, in \u001b[36msync.<locals>.f\u001b[39m\u001b[34m()\u001b[39m\n\u001b[32m    424\u001b[39m         awaitable = wait_for(awaitable, timeout)\n\u001b[32m    425\u001b[39m     future = asyncio.ensure_future(awaitable)\n\u001b[32m--> \u001b[39m\u001b[32m426\u001b[39m     result = \u001b[38;5;28;01myield\u001b[39;00m future\n\u001b[32m    427\u001b[39m \u001b[38;5;28;01mexcept\u001b[39;00m \u001b[38;5;167;01mException\u001b[39;00m \u001b[38;5;28;01mas\u001b[39;00m exception:\n\u001b[32m    428\u001b[39m     error = exception\n",
      "\u001b[36mFile \u001b[39m\u001b[32m/opt/miniconda3/envs/gtk-bh-5-6v2/lib/python3.11/site-packages/tornado/gen.py:769\u001b[39m, in \u001b[36mRunner.run\u001b[39m\u001b[34m(self)\u001b[39m\n\u001b[32m    767\u001b[39m \u001b[38;5;28;01mtry\u001b[39;00m:\n\u001b[32m    768\u001b[39m     \u001b[38;5;28;01mtry\u001b[39;00m:\n\u001b[32m--> \u001b[39m\u001b[32m769\u001b[39m         value = future.result()\n\u001b[32m    770\u001b[39m     \u001b[38;5;28;01mexcept\u001b[39;00m \u001b[38;5;167;01mException\u001b[39;00m \u001b[38;5;28;01mas\u001b[39;00m e:\n\u001b[32m    771\u001b[39m         \u001b[38;5;66;03m# Save the exception for later. It's important that\u001b[39;00m\n\u001b[32m    772\u001b[39m         \u001b[38;5;66;03m# gen.throw() not be called inside this try/except block\u001b[39;00m\n\u001b[32m    773\u001b[39m         \u001b[38;5;66;03m# because that makes sys.exc_info behave unexpectedly.\u001b[39;00m\n\u001b[32m    774\u001b[39m         exc: Optional[\u001b[38;5;167;01mException\u001b[39;00m] = e\n",
      "\u001b[36mFile \u001b[39m\u001b[32m/opt/miniconda3/envs/gtk-bh-5-6v2/lib/python3.11/site-packages/distributed/client.py:2645\u001b[39m, in \u001b[36mClient._scatter\u001b[39m\u001b[34m(self, data, workers, broadcast, direct, local_worker, timeout, hash)\u001b[39m\n\u001b[32m   2641\u001b[39m         \u001b[38;5;28;01mawait\u001b[39;00m \u001b[38;5;28mself\u001b[39m.scheduler.update_data(\n\u001b[32m   2642\u001b[39m             who_has=who_has, nbytes=nbytes, client=\u001b[38;5;28mself\u001b[39m.id\n\u001b[32m   2643\u001b[39m         )\n\u001b[32m   2644\u001b[39m     \u001b[38;5;28;01melse\u001b[39;00m:\n\u001b[32m-> \u001b[39m\u001b[32m2645\u001b[39m         \u001b[38;5;28;01mawait\u001b[39;00m \u001b[38;5;28mself\u001b[39m.scheduler.scatter(\n\u001b[32m   2646\u001b[39m             data=data2,\n\u001b[32m   2647\u001b[39m             workers=workers,\n\u001b[32m   2648\u001b[39m             client=\u001b[38;5;28mself\u001b[39m.id,\n\u001b[32m   2649\u001b[39m             broadcast=broadcast,\n\u001b[32m   2650\u001b[39m             timeout=timeout,\n\u001b[32m   2651\u001b[39m         )\n\u001b[32m   2653\u001b[39m out = {k: Future(k, \u001b[38;5;28mself\u001b[39m) \u001b[38;5;28;01mfor\u001b[39;00m k \u001b[38;5;129;01min\u001b[39;00m data}\n\u001b[32m   2654\u001b[39m \u001b[38;5;28;01mfor\u001b[39;00m key, typ \u001b[38;5;129;01min\u001b[39;00m types.items():\n",
      "\u001b[36mFile \u001b[39m\u001b[32m/opt/miniconda3/envs/gtk-bh-5-6v2/lib/python3.11/site-packages/distributed/core.py:1259\u001b[39m, in \u001b[36mPooledRPCCall.__getattr__.<locals>.send_recv_from_rpc\u001b[39m\u001b[34m(**kwargs)\u001b[39m\n\u001b[32m   1257\u001b[39m prev_name, comm.name = comm.name, \u001b[33m\"\u001b[39m\u001b[33mConnectionPool.\u001b[39m\u001b[33m\"\u001b[39m + key\n\u001b[32m   1258\u001b[39m \u001b[38;5;28;01mtry\u001b[39;00m:\n\u001b[32m-> \u001b[39m\u001b[32m1259\u001b[39m     \u001b[38;5;28;01mreturn\u001b[39;00m \u001b[38;5;28;01mawait\u001b[39;00m send_recv(comm=comm, op=key, **kwargs)\n\u001b[32m   1260\u001b[39m \u001b[38;5;28;01mfinally\u001b[39;00m:\n\u001b[32m   1261\u001b[39m     \u001b[38;5;28mself\u001b[39m.pool.reuse(\u001b[38;5;28mself\u001b[39m.addr, comm)\n",
      "\u001b[36mFile \u001b[39m\u001b[32m/opt/miniconda3/envs/gtk-bh-5-6v2/lib/python3.11/site-packages/distributed/core.py:1043\u001b[39m, in \u001b[36msend_recv\u001b[39m\u001b[34m(comm, reply, serializers, deserializers, **kwargs)\u001b[39m\n\u001b[32m   1041\u001b[39m     _, exc, tb = clean_exception(**response)\n\u001b[32m   1042\u001b[39m     \u001b[38;5;28;01massert\u001b[39;00m exc\n\u001b[32m-> \u001b[39m\u001b[32m1043\u001b[39m     \u001b[38;5;28;01mraise\u001b[39;00m exc.with_traceback(tb)\n\u001b[32m   1044\u001b[39m \u001b[38;5;28;01melse\u001b[39;00m:\n\u001b[32m   1045\u001b[39m     \u001b[38;5;28;01mraise\u001b[39;00m \u001b[38;5;167;01mException\u001b[39;00m(response[\u001b[33m\"\u001b[39m\u001b[33mexception_text\u001b[39m\u001b[33m\"\u001b[39m])\n",
      "\u001b[36mFile \u001b[39m\u001b[32m/opt/miniconda3/envs/gtk-bh-5-6v2/lib/python3.11/site-packages/distributed/core.py:834\u001b[39m, in \u001b[36m_handle_comm\u001b[39m\u001b[34m()\u001b[39m\n\u001b[32m    832\u001b[39m     result = handler(**msg)\n\u001b[32m    833\u001b[39m \u001b[38;5;28;01mif\u001b[39;00m inspect.iscoroutine(result):\n\u001b[32m--> \u001b[39m\u001b[32m834\u001b[39m     result = \u001b[38;5;28;01mawait\u001b[39;00m result\n\u001b[32m    835\u001b[39m \u001b[38;5;28;01melif\u001b[39;00m inspect.isawaitable(result):\n\u001b[32m    836\u001b[39m     \u001b[38;5;28;01mraise\u001b[39;00m \u001b[38;5;167;01mRuntimeError\u001b[39;00m(\n\u001b[32m    837\u001b[39m         \u001b[33mf\u001b[39m\u001b[33m\"\u001b[39m\u001b[33mComm handler returned unknown awaitable. Expected coroutine, instead got \u001b[39m\u001b[38;5;132;01m{\u001b[39;00m\u001b[38;5;28mtype\u001b[39m(result)\u001b[38;5;132;01m}\u001b[39;00m\u001b[33m\"\u001b[39m\n\u001b[32m    838\u001b[39m     )\n",
      "\u001b[36mFile \u001b[39m\u001b[32m/opt/miniconda3/envs/gtk-bh-5-6v2/lib/python3.11/site-packages/distributed/scheduler.py:6423\u001b[39m, in \u001b[36mscatter\u001b[39m\u001b[34m()\u001b[39m\n\u001b[32m   6421\u001b[39m         \u001b[38;5;28;01mbreak\u001b[39;00m\n\u001b[32m   6422\u001b[39m     \u001b[38;5;28;01mif\u001b[39;00m time() > start + timeout:\n\u001b[32m-> \u001b[39m\u001b[32m6423\u001b[39m         \u001b[38;5;28;01mraise\u001b[39;00m \u001b[38;5;167;01mTimeoutError\u001b[39;00m(\u001b[33m\"\u001b[39m\u001b[33mNo valid workers found\u001b[39m\u001b[33m\"\u001b[39m)\n\u001b[32m   6424\u001b[39m     \u001b[38;5;28;01mawait\u001b[39;00m asyncio.sleep(\u001b[32m0.1\u001b[39m)\n\u001b[32m   6426\u001b[39m \u001b[38;5;28;01massert\u001b[39;00m \u001b[38;5;28misinstance\u001b[39m(data, \u001b[38;5;28mdict\u001b[39m)\n",
      "\u001b[31mTimeoutError\u001b[39m: No valid workers found"
     ]
    }
   ],
   "source": [
    "optimizer = TPOTClassifier(n_jobs=-1, max_eval_time_mins=1)\n",
    "optimizer.fit(feature_matrix_train, target_encoded)"
   ]
  },
  {
   "cell_type": "markdown",
   "metadata": {},
   "source": [
    "## Step Three:  Evaluate the Performance\n",
    "Now that you have a trained model, the next step is to evaluate the performance and see how TPOT did in comparison with earlier models we created.  Use the techniques you've learned to evaluate the performance of your model.  Specifically, print out the `classification report` and a confusion matrix. \n",
    "\n",
    "What is the accuracy of your model?  Is it significantly better than what you did in earlier labs?"
   ]
  },
  {
   "cell_type": "code",
   "execution_count": null,
   "metadata": {
    "ExecuteTime": {
     "end_time": "2019-02-27T15:21:37.710556Z",
     "start_time": "2019-02-27T15:21:37.700287Z"
    }
   },
   "outputs": [],
   "source": [
    "predictions = optimizer.predict(feature_matrix_test)"
   ]
  },
  {
   "cell_type": "code",
   "execution_count": null,
   "metadata": {
    "ExecuteTime": {
     "end_time": "2019-02-27T15:22:07.825701Z",
     "start_time": "2019-02-27T15:22:07.817113Z"
    },
    "scrolled": true
   },
   "outputs": [],
   "source": [
    "print(classification_report(predictions, target_test))"
   ]
  },
  {
   "cell_type": "code",
   "execution_count": null,
   "metadata": {},
   "outputs": [],
   "source": [
    "conf_matrix = confusion_matrix(target_test, predictions, labels=optimizer.classes_)\n",
    "disp = ConfusionMatrixDisplay(confusion_matrix=conf_matrix,\n",
    "                              display_labels=optimizer.classes_)\n",
    "\n",
    "disp.plot(cmap='summer');"
   ]
  },
  {
   "cell_type": "markdown",
   "metadata": {},
   "source": [
    "## Step 4:  Export your Pipeline\n",
    "If you are happy with the results from `TPOT` you can export the pipeline as python code. The final step in this lab is to export the pipeline as a file called `automate_ml.py` and examine it.  What model and preprocessing steps did TPOT find?  Was this a surprise?"
   ]
  },
  {
   "cell_type": "code",
   "execution_count": null,
   "metadata": {
    "ExecuteTime": {
     "end_time": "2019-02-27T15:26:03.601289Z",
     "start_time": "2019-02-27T15:26:03.596273Z"
    }
   },
   "outputs": [],
   "source": [
    "optimizer.export('automate_ml.py')"
   ]
  },
  {
   "cell_type": "code",
   "execution_count": null,
   "metadata": {},
   "outputs": [],
   "source": []
  }
 ],
 "metadata": {
  "kernelspec": {
   "display_name": "Python 3 (ipykernel)",
   "language": "python",
   "name": "python3"
  },
  "language_info": {
   "codemirror_mode": {
    "name": "ipython",
    "version": 3
   },
   "file_extension": ".py",
   "mimetype": "text/x-python",
   "name": "python",
   "nbconvert_exporter": "python",
   "pygments_lexer": "ipython3",
   "version": "3.11.0"
  },
  "varInspector": {
   "cols": {
    "lenName": 16,
    "lenType": 16,
    "lenVar": 40
   },
   "kernels_config": {
    "python": {
     "delete_cmd_postfix": "",
     "delete_cmd_prefix": "del ",
     "library": "var_list.py",
     "varRefreshCmd": "print(var_dic_list())"
    },
    "r": {
     "delete_cmd_postfix": ") ",
     "delete_cmd_prefix": "rm(",
     "library": "var_list.r",
     "varRefreshCmd": "cat(var_dic_list()) "
    }
   },
   "types_to_exclude": [
    "module",
    "function",
    "builtin_function_or_method",
    "instance",
    "_Feature"
   ],
   "window_display": false
  },
  "widgets": {
   "application/vnd.jupyter.widget-state+json": {
    "state": {
     "1660b68f6f56496c9a145b949a0bf979": {
      "model_module": "@jupyter-widgets/controls",
      "model_module_version": "2.0.0",
      "model_name": "HTMLStyleModel",
      "state": {
       "description_width": "",
       "font_size": null,
       "text_color": null
      }
     },
     "7196a007e8514b4ca1e57701bc52036b": {
      "model_module": "@jupyter-widgets/controls",
      "model_module_version": "2.0.0",
      "model_name": "ProgressStyleModel",
      "state": {
       "description_width": ""
      }
     },
     "8182e7f6590e4d1792612836a3e635a4": {
      "model_module": "@jupyter-widgets/base",
      "model_module_version": "2.0.0",
      "model_name": "LayoutModel",
      "state": {}
     },
     "b4fddc7b8eed489690c53d51ffc2b36e": {
      "model_module": "@jupyter-widgets/controls",
      "model_module_version": "2.0.0",
      "model_name": "HTMLModel",
      "state": {
       "layout": "IPY_MODEL_8182e7f6590e4d1792612836a3e635a4",
       "style": "IPY_MODEL_1660b68f6f56496c9a145b949a0bf979",
       "value": "Optimization Progress:   2%"
      }
     },
     "bae4dadc395b4093805abe55ab68b0fe": {
      "model_module": "@jupyter-widgets/controls",
      "model_module_version": "2.0.0",
      "model_name": "HBoxModel",
      "state": {
       "children": [
        "IPY_MODEL_b4fddc7b8eed489690c53d51ffc2b36e",
        "IPY_MODEL_d7bde4a849784db9b9ee3a1d151f6dbd",
        "IPY_MODEL_fa786fcea7f44684b1f18636ed3f463b"
       ],
       "layout": "IPY_MODEL_cc04d283055847ce8e0db21fc2d52f1b"
      }
     },
     "cc04d283055847ce8e0db21fc2d52f1b": {
      "model_module": "@jupyter-widgets/base",
      "model_module_version": "2.0.0",
      "model_name": "LayoutModel",
      "state": {}
     },
     "d58f9b228b3143d4a20eb7e37345b1d6": {
      "model_module": "@jupyter-widgets/base",
      "model_module_version": "2.0.0",
      "model_name": "LayoutModel",
      "state": {}
     },
     "d7bde4a849784db9b9ee3a1d151f6dbd": {
      "model_module": "@jupyter-widgets/controls",
      "model_module_version": "2.0.0",
      "model_name": "FloatProgressModel",
      "state": {
       "bar_style": "danger",
       "layout": "IPY_MODEL_d58f9b228b3143d4a20eb7e37345b1d6",
       "max": 10100,
       "style": "IPY_MODEL_7196a007e8514b4ca1e57701bc52036b",
       "value": 161
      }
     },
     "ec88d65ab40747d48b3ac49716d65d35": {
      "model_module": "@jupyter-widgets/base",
      "model_module_version": "2.0.0",
      "model_name": "LayoutModel",
      "state": {}
     },
     "f997c670624e4618af58638b031ee5ed": {
      "model_module": "@jupyter-widgets/controls",
      "model_module_version": "2.0.0",
      "model_name": "HTMLStyleModel",
      "state": {
       "description_width": "",
       "font_size": null,
       "text_color": null
      }
     },
     "fa786fcea7f44684b1f18636ed3f463b": {
      "model_module": "@jupyter-widgets/controls",
      "model_module_version": "2.0.0",
      "model_name": "HTMLModel",
      "state": {
       "layout": "IPY_MODEL_ec88d65ab40747d48b3ac49716d65d35",
       "style": "IPY_MODEL_f997c670624e4618af58638b031ee5ed",
       "value": " 161/10100 [00:56&lt;1:03:34,  2.61pipeline/s]"
      }
     }
    },
    "version_major": 2,
    "version_minor": 0
   }
  }
 },
 "nbformat": 4,
 "nbformat_minor": 4
}
