{
 "cells": [
  {
   "cell_type": "markdown",
   "metadata": {},
   "source": [
    "<img src=\"../img/GTK_Logo_Social Icon.jpg\" width=175 align=\"right\" />\n",
    "\n",
    "# Worksheet 2.1:  Working with Two Dimensional Data\n",
    "This worksheet covers concepts covered in Module 2 - Exploratory Data Analysis in Two Dimensions.  It should take no more than 20-30 minutes to complete.  Please raise your hand if you get stuck.  \n",
    "\n",
    "There are many ways to accomplish the tasks that you are presented with, however you will find that by using the techniques covered in class, the exercises should be relatively simple. \n",
    "\n",
    "## Import the Libraries\n",
    "For this exercise, we will be using:\n",
    "* Pandas (http://pandas.pydata.org/pandas-docs/stable/)\n",
    "* json (https://docs.python.org/3/library/json.html)\n",
    "* user-agents (https://pypi.python.org/pypi/user-agents)\n",
    "* apachelogs (https://pypi.org/project/apachelogs/)"
   ]
  },
  {
   "cell_type": "code",
   "execution_count": 3,
   "metadata": {
    "ExecuteTime": {
     "end_time": "2023-08-01T14:12:26.295995Z",
     "start_time": "2023-08-01T14:12:25.275727Z"
    }
   },
   "outputs": [],
   "source": [
    "import pandas as pd\n",
    "import json"
   ]
  },
  {
   "cell_type": "markdown",
   "metadata": {},
   "source": [
    "## Exercise 2.1: Reading various forms of JSON Data\n",
    "In the `/data/` folder, you will find a series of `.json` files called `dataN.json`, numbered 1-4.  Each file contains the following data:\n",
    "\n",
    "<table>\n",
    "    <tr>\n",
    "        <th></th>\n",
    "        <th>birthday</th>\n",
    "        <th>first_name</th>\n",
    "        <th>last_name</th>\n",
    "    </tr>\n",
    "    <tr>\n",
    "        <td>0</td>\n",
    "        <td>5\\/3\\/67</td>\n",
    "        <td>Robert</td>\n",
    "        <td>Hernandez</td>\n",
    "    </tr>\n",
    "    <tr>\n",
    "        <td>1</td>\n",
    "        <td>8\\/4\\/84</td>\n",
    "        <td>Steve</td>\n",
    "        <td>Smith</td>\n",
    "    </tr>\n",
    "    <tr>\n",
    "        <td>2</td>\n",
    "        <td>9\\/13\\/91</td>\n",
    "        <td>Anne</td>\n",
    "        <td>Raps</td>\n",
    "    </tr>    \n",
    "    <tr>\n",
    "        <td>3</td>\n",
    "        <td>4\\/15\\/75</td>\n",
    "        <td>Alice</td>\n",
    "        <td>Muller</td>\n",
    "    </tr>    \n",
    "</table>\n",
    "\n",
    "Using the `.read_json()` function and the various configuration options, read all these files into a dataframe.  The documentation is available here: http://pandas.pydata.org/pandas-docs/stable/generated/pandas.read_json.html."
   ]
  },
  {
   "cell_type": "code",
   "execution_count": 4,
   "metadata": {
    "ExecuteTime": {
     "end_time": "2022-12-05T14:16:28.553935Z",
     "start_time": "2022-12-05T14:16:28.524618Z"
    }
   },
   "outputs": [
    {
     "data": {
      "text/html": [
       "<div>\n",
       "<style scoped>\n",
       "    .dataframe tbody tr th:only-of-type {\n",
       "        vertical-align: middle;\n",
       "    }\n",
       "\n",
       "    .dataframe tbody tr th {\n",
       "        vertical-align: top;\n",
       "    }\n",
       "\n",
       "    .dataframe thead th {\n",
       "        text-align: right;\n",
       "    }\n",
       "</style>\n",
       "<table border=\"1\" class=\"dataframe\">\n",
       "  <thead>\n",
       "    <tr style=\"text-align: right;\">\n",
       "      <th></th>\n",
       "      <th>first_name</th>\n",
       "      <th>last_name</th>\n",
       "      <th>birthday</th>\n",
       "    </tr>\n",
       "  </thead>\n",
       "  <tbody>\n",
       "    <tr>\n",
       "      <th>0</th>\n",
       "      <td>Robert</td>\n",
       "      <td>Hernandez</td>\n",
       "      <td>5\\/3\\/67</td>\n",
       "    </tr>\n",
       "    <tr>\n",
       "      <th>1</th>\n",
       "      <td>Steve</td>\n",
       "      <td>Smith</td>\n",
       "      <td>8\\/4\\/84</td>\n",
       "    </tr>\n",
       "    <tr>\n",
       "      <th>2</th>\n",
       "      <td>Anne</td>\n",
       "      <td>Raps</td>\n",
       "      <td>9\\/13\\/91</td>\n",
       "    </tr>\n",
       "    <tr>\n",
       "      <th>3</th>\n",
       "      <td>Alice</td>\n",
       "      <td>Muller</td>\n",
       "      <td>4\\/15\\/75</td>\n",
       "    </tr>\n",
       "  </tbody>\n",
       "</table>\n",
       "</div>"
      ],
      "text/plain": [
       "  first_name  last_name   birthday\n",
       "0     Robert  Hernandez   5\\/3\\/67\n",
       "1      Steve      Smith   8\\/4\\/84\n",
       "2       Anne       Raps  9\\/13\\/91\n",
       "3      Alice     Muller  4\\/15\\/75"
      ]
     },
     "execution_count": 4,
     "metadata": {},
     "output_type": "execute_result"
    }
   ],
   "source": [
    "DATA_HOME = '../data/'\n",
    "df1 = pd.read_json(DATA_HOME + 'data1.json')\n",
    "df1"
   ]
  },
  {
   "cell_type": "code",
   "execution_count": 5,
   "metadata": {
    "ExecuteTime": {
     "end_time": "2022-12-05T14:16:29.397589Z",
     "start_time": "2022-12-05T14:16:29.381145Z"
    }
   },
   "outputs": [
    {
     "data": {
      "text/html": [
       "<div>\n",
       "<style scoped>\n",
       "    .dataframe tbody tr th:only-of-type {\n",
       "        vertical-align: middle;\n",
       "    }\n",
       "\n",
       "    .dataframe tbody tr th {\n",
       "        vertical-align: top;\n",
       "    }\n",
       "\n",
       "    .dataframe thead th {\n",
       "        text-align: right;\n",
       "    }\n",
       "</style>\n",
       "<table border=\"1\" class=\"dataframe\">\n",
       "  <thead>\n",
       "    <tr style=\"text-align: right;\">\n",
       "      <th></th>\n",
       "      <th>first_name</th>\n",
       "      <th>last_name</th>\n",
       "      <th>birthday</th>\n",
       "    </tr>\n",
       "  </thead>\n",
       "  <tbody>\n",
       "    <tr>\n",
       "      <th>0</th>\n",
       "      <td>Robert</td>\n",
       "      <td>Hernandez</td>\n",
       "      <td>5\\/3\\/67</td>\n",
       "    </tr>\n",
       "    <tr>\n",
       "      <th>1</th>\n",
       "      <td>Steve</td>\n",
       "      <td>Smith</td>\n",
       "      <td>8\\/4\\/84</td>\n",
       "    </tr>\n",
       "    <tr>\n",
       "      <th>2</th>\n",
       "      <td>Anne</td>\n",
       "      <td>Raps</td>\n",
       "      <td>9\\/13\\/91</td>\n",
       "    </tr>\n",
       "    <tr>\n",
       "      <th>3</th>\n",
       "      <td>Alice</td>\n",
       "      <td>Muller</td>\n",
       "      <td>4\\/15\\/75</td>\n",
       "    </tr>\n",
       "  </tbody>\n",
       "</table>\n",
       "</div>"
      ],
      "text/plain": [
       "  first_name  last_name   birthday\n",
       "0     Robert  Hernandez   5\\/3\\/67\n",
       "1      Steve      Smith   8\\/4\\/84\n",
       "2       Anne       Raps  9\\/13\\/91\n",
       "3      Alice     Muller  4\\/15\\/75"
      ]
     },
     "execution_count": 5,
     "metadata": {},
     "output_type": "execute_result"
    }
   ],
   "source": [
    "df2 = pd.read_json(DATA_HOME + 'data2.json', orient='index')\n",
    "df2"
   ]
  },
  {
   "cell_type": "code",
   "execution_count": 6,
   "metadata": {
    "ExecuteTime": {
     "end_time": "2022-12-05T14:16:29.807784Z",
     "start_time": "2022-12-05T14:16:29.793005Z"
    }
   },
   "outputs": [
    {
     "data": {
      "text/html": [
       "<div>\n",
       "<style scoped>\n",
       "    .dataframe tbody tr th:only-of-type {\n",
       "        vertical-align: middle;\n",
       "    }\n",
       "\n",
       "    .dataframe tbody tr th {\n",
       "        vertical-align: top;\n",
       "    }\n",
       "\n",
       "    .dataframe thead th {\n",
       "        text-align: right;\n",
       "    }\n",
       "</style>\n",
       "<table border=\"1\" class=\"dataframe\">\n",
       "  <thead>\n",
       "    <tr style=\"text-align: right;\">\n",
       "      <th></th>\n",
       "      <th>first_name</th>\n",
       "      <th>last_name</th>\n",
       "      <th>birthday</th>\n",
       "    </tr>\n",
       "  </thead>\n",
       "  <tbody>\n",
       "    <tr>\n",
       "      <th>0</th>\n",
       "      <td>Robert</td>\n",
       "      <td>Hernandez</td>\n",
       "      <td>5\\/3\\/67</td>\n",
       "    </tr>\n",
       "    <tr>\n",
       "      <th>1</th>\n",
       "      <td>Steve</td>\n",
       "      <td>Smith</td>\n",
       "      <td>8\\/4\\/84</td>\n",
       "    </tr>\n",
       "    <tr>\n",
       "      <th>2</th>\n",
       "      <td>Anne</td>\n",
       "      <td>Raps</td>\n",
       "      <td>9\\/13\\/91</td>\n",
       "    </tr>\n",
       "    <tr>\n",
       "      <th>3</th>\n",
       "      <td>Alice</td>\n",
       "      <td>Muller</td>\n",
       "      <td>4\\/15\\/75</td>\n",
       "    </tr>\n",
       "  </tbody>\n",
       "</table>\n",
       "</div>"
      ],
      "text/plain": [
       "  first_name  last_name   birthday\n",
       "0     Robert  Hernandez   5\\/3\\/67\n",
       "1      Steve      Smith   8\\/4\\/84\n",
       "2       Anne       Raps  9\\/13\\/91\n",
       "3      Alice     Muller  4\\/15\\/75"
      ]
     },
     "execution_count": 6,
     "metadata": {},
     "output_type": "execute_result"
    }
   ],
   "source": [
    "df3 = pd.read_json(DATA_HOME + 'data3.json', orient='columns')\n",
    "df3"
   ]
  },
  {
   "cell_type": "code",
   "execution_count": 7,
   "metadata": {
    "ExecuteTime": {
     "end_time": "2022-12-05T14:16:30.540902Z",
     "start_time": "2022-12-05T14:16:30.526661Z"
    }
   },
   "outputs": [
    {
     "data": {
      "text/html": [
       "<div>\n",
       "<style scoped>\n",
       "    .dataframe tbody tr th:only-of-type {\n",
       "        vertical-align: middle;\n",
       "    }\n",
       "\n",
       "    .dataframe tbody tr th {\n",
       "        vertical-align: top;\n",
       "    }\n",
       "\n",
       "    .dataframe thead th {\n",
       "        text-align: right;\n",
       "    }\n",
       "</style>\n",
       "<table border=\"1\" class=\"dataframe\">\n",
       "  <thead>\n",
       "    <tr style=\"text-align: right;\">\n",
       "      <th></th>\n",
       "      <th>first_name</th>\n",
       "      <th>last_name</th>\n",
       "      <th>birthday</th>\n",
       "    </tr>\n",
       "  </thead>\n",
       "  <tbody>\n",
       "    <tr>\n",
       "      <th>0</th>\n",
       "      <td>Robert</td>\n",
       "      <td>Hernandez</td>\n",
       "      <td>5\\/3\\/67</td>\n",
       "    </tr>\n",
       "    <tr>\n",
       "      <th>1</th>\n",
       "      <td>Steve</td>\n",
       "      <td>Smith</td>\n",
       "      <td>8\\/4\\/84</td>\n",
       "    </tr>\n",
       "    <tr>\n",
       "      <th>2</th>\n",
       "      <td>Anne</td>\n",
       "      <td>Raps</td>\n",
       "      <td>9\\/13\\/91</td>\n",
       "    </tr>\n",
       "    <tr>\n",
       "      <th>3</th>\n",
       "      <td>Alice</td>\n",
       "      <td>Muller</td>\n",
       "      <td>4\\/15\\/75</td>\n",
       "    </tr>\n",
       "  </tbody>\n",
       "</table>\n",
       "</div>"
      ],
      "text/plain": [
       "  first_name  last_name   birthday\n",
       "0     Robert  Hernandez   5\\/3\\/67\n",
       "1      Steve      Smith   8\\/4\\/84\n",
       "2       Anne       Raps  9\\/13\\/91\n",
       "3      Alice     Muller  4\\/15\\/75"
      ]
     },
     "execution_count": 7,
     "metadata": {},
     "output_type": "execute_result"
    }
   ],
   "source": [
    "df4 = pd.read_json(DATA_HOME + 'data4.json', orient='split')\n",
    "df4"
   ]
  },
  {
   "cell_type": "markdown",
   "metadata": {},
   "source": [
    "## Exercise 2: \n",
    "In the data file, there is a webserver file called `hackers-access.httpd`.  For this exercise, you will use this file to answer the following questions:\n",
    "1.  Which browsers are the top 3 most used browsers in this data?\n",
    "2.  Which are the least (3) used operating systems?\n",
    "\n",
    "In order to accomplish this task, do the following:\n",
    "1. Parse each log to pull out the following relevant information\n",
    "        - user agent, bytes, status, remote host, number of bytes sent\n",
    "\n",
    "2. For each log, store the raw text and each piece of information in a data frame\n",
    "\n",
    "3.  Write a function which takes a User Agent string as an argument and returns the name of the operating system and the browser family.  HINT:  You might want to use `user_agents` module, the documentation for which is available here: (https://pypi.python.org/pypi/user-agents)\n",
    "\n",
    "4.  Next, apply this function to the column which contains the user agent string.\n",
    "5.  Store this series as a new column in the dataframe\n",
    "6.  Count the occurances of each value in the new columns (top 5 is fine)\n",
    "\n",
    "First we need to grab another python library with pip \n",
    "[https://pypi.org/project/apachelogs/](https://pypi.org/project/apachelogs/)"
   ]
  },
  {
   "cell_type": "code",
   "execution_count": 8,
   "metadata": {},
   "outputs": [
    {
     "name": "stdout",
     "output_type": "stream",
     "text": [
      "Requirement already satisfied: apachelogs in /Volumes/ext200/opt/miniconda3/envs/gtk-blackhat/lib/python3.11/site-packages (0.6.1)\n",
      "Requirement already satisfied: attrs>=17.1 in /Volumes/ext200/opt/miniconda3/envs/gtk-blackhat/lib/python3.11/site-packages (from apachelogs) (24.3.0)\n",
      "Requirement already satisfied: pydicti~=1.1 in /Volumes/ext200/opt/miniconda3/envs/gtk-blackhat/lib/python3.11/site-packages (from apachelogs) (1.2.1)\n"
     ]
    }
   ],
   "source": [
    "!pip install apachelogs"
   ]
  },
  {
   "cell_type": "code",
   "execution_count": 9,
   "metadata": {
    "ExecuteTime": {
     "end_time": "2022-12-05T14:16:32.257663Z",
     "start_time": "2022-12-05T14:16:31.863816Z"
    }
   },
   "outputs": [
    {
     "data": {
      "text/plain": [
       "'192.161.57.88 - - [30/Oct/2015:15:59:39 +0100] \"POST /login_form HTTP/1.1\" 200 18354 \"http://niels.basjes.nl/login_form\" \"Mozilla/5.0 (Windows NT 6.1; rv:32.0) Gecko/20100101 Firefox/32.0\"'"
      ]
     },
     "execution_count": 9,
     "metadata": {},
     "output_type": "execute_result"
    }
   ],
   "source": [
    "from apachelogs import LogParser\n",
    "\n",
    "line_parser = LogParser(\"%h %l %u %t \\\"%r\\\" %>s %b \\\"%{Referer}i\\\" \\\"%{User-agent}i\\\"\")\n",
    "\n",
    "raw_text_log = '192.161.57.88 - - [30/Oct/2015:15:59:39 +0100] \"POST /login_form HTTP/1.1\" 200 18354 \"http://niels.basjes.nl/login_form\" \"Mozilla/5.0 (Windows NT 6.1; rv:32.0) Gecko/20100101 Firefox/32.0\"'\n",
    "\n",
    "log_dict = {}\n",
    "log_dict = line_parser.parse(raw_text_log)\n",
    "log_dict.entry"
   ]
  },
  {
   "cell_type": "code",
   "execution_count": 10,
   "metadata": {},
   "outputs": [
    {
     "data": {
      "text/plain": [
       "'192.161.57.88'"
      ]
     },
     "execution_count": 10,
     "metadata": {},
     "output_type": "execute_result"
    }
   ],
   "source": [
    "log_dict.remote_host"
   ]
  },
  {
   "cell_type": "code",
   "execution_count": 11,
   "metadata": {},
   "outputs": [
    {
     "data": {
      "text/plain": [
       "datetime.datetime(2015, 10, 30, 15, 59, 39, tzinfo=datetime.timezone(datetime.timedelta(seconds=3600)))"
      ]
     },
     "execution_count": 11,
     "metadata": {},
     "output_type": "execute_result"
    }
   ],
   "source": [
    "log_dict.request_time"
   ]
  },
  {
   "cell_type": "code",
   "execution_count": 12,
   "metadata": {},
   "outputs": [
    {
     "data": {
      "text/plain": [
       "{'timestamp': datetime.datetime(2015, 10, 30, 15, 59, 39, tzinfo=datetime.timezone(datetime.timedelta(seconds=3600)))}"
      ]
     },
     "execution_count": 12,
     "metadata": {},
     "output_type": "execute_result"
    }
   ],
   "source": [
    "log_dict.request_time_fields"
   ]
  },
  {
   "cell_type": "code",
   "execution_count": 13,
   "metadata": {},
   "outputs": [
    {
     "data": {
      "text/plain": [
       "18354"
      ]
     },
     "execution_count": 13,
     "metadata": {},
     "output_type": "execute_result"
    }
   ],
   "source": [
    "log_dict.bytes_sent"
   ]
  },
  {
   "cell_type": "code",
   "execution_count": 14,
   "metadata": {},
   "outputs": [
    {
     "data": {
      "text/plain": [
       "{'%h': '192.161.57.88',\n",
       " '%l': None,\n",
       " '%u': None,\n",
       " '%t': datetime.datetime(2015, 10, 30, 15, 59, 39, tzinfo=datetime.timezone(datetime.timedelta(seconds=3600))),\n",
       " '%r': 'POST /login_form HTTP/1.1',\n",
       " '%>s': 200,\n",
       " '%b': 18354,\n",
       " '%{Referer}i': 'http://niels.basjes.nl/login_form',\n",
       " '%{User-agent}i': 'Mozilla/5.0 (Windows NT 6.1; rv:32.0) Gecko/20100101 Firefox/32.0'}"
      ]
     },
     "execution_count": 14,
     "metadata": {},
     "output_type": "execute_result"
    }
   ],
   "source": [
    "log_dict.directives"
   ]
  },
  {
   "cell_type": "code",
   "execution_count": 15,
   "metadata": {},
   "outputs": [
    {
     "data": {
      "text/plain": [
       "dicti({'Referer': 'http://niels.basjes.nl/login_form', 'User-agent': 'Mozilla/5.0 (Windows NT 6.1; rv:32.0) Gecko/20100101 Firefox/32.0'})"
      ]
     },
     "execution_count": 15,
     "metadata": {},
     "output_type": "execute_result"
    }
   ],
   "source": [
    "log_dict.headers_in"
   ]
  },
  {
   "cell_type": "code",
   "execution_count": 16,
   "metadata": {
    "ExecuteTime": {
     "end_time": "2022-12-05T14:16:34.039559Z",
     "start_time": "2022-12-05T14:16:34.014081Z"
    }
   },
   "outputs": [
    {
     "data": {
      "text/html": [
       "<div>\n",
       "<style scoped>\n",
       "    .dataframe tbody tr th:only-of-type {\n",
       "        vertical-align: middle;\n",
       "    }\n",
       "\n",
       "    .dataframe tbody tr th {\n",
       "        vertical-align: top;\n",
       "    }\n",
       "\n",
       "    .dataframe thead th {\n",
       "        text-align: right;\n",
       "    }\n",
       "</style>\n",
       "<table border=\"1\" class=\"dataframe\">\n",
       "  <thead>\n",
       "    <tr style=\"text-align: right;\">\n",
       "      <th></th>\n",
       "      <th>raw_log</th>\n",
       "      <th>remote_host</th>\n",
       "      <th>user_agent</th>\n",
       "      <th>request_time</th>\n",
       "      <th>status</th>\n",
       "      <th>bytes</th>\n",
       "    </tr>\n",
       "  </thead>\n",
       "  <tbody>\n",
       "    <tr>\n",
       "      <th>0</th>\n",
       "      <td>195.154.46.135 - - [25/Oct/2015:04:11:25 +0100...</td>\n",
       "      <td>195.154.46.135</td>\n",
       "      <td>Mozilla/5.0 (Windows NT 5.1; rv:35.0) Gecko/20...</td>\n",
       "      <td>2015-10-25 04:11:25+01:00</td>\n",
       "      <td>200.0</td>\n",
       "      <td>24323.0</td>\n",
       "    </tr>\n",
       "    <tr>\n",
       "      <th>1</th>\n",
       "      <td>23.95.237.180 - - [25/Oct/2015:04:11:26 +0100]...</td>\n",
       "      <td>23.95.237.180</td>\n",
       "      <td>Mozilla/5.0 (Windows NT 5.1; rv:35.0) Gecko/20...</td>\n",
       "      <td>2015-10-25 04:11:26+01:00</td>\n",
       "      <td>200.0</td>\n",
       "      <td>11114.0</td>\n",
       "    </tr>\n",
       "    <tr>\n",
       "      <th>2</th>\n",
       "      <td>23.95.237.180 - - [25/Oct/2015:04:11:27 +0100]...</td>\n",
       "      <td>23.95.237.180</td>\n",
       "      <td>Mozilla/5.0 (Windows NT 5.1; rv:35.0) Gecko/20...</td>\n",
       "      <td>2015-10-25 04:11:27+01:00</td>\n",
       "      <td>302.0</td>\n",
       "      <td>9093.0</td>\n",
       "    </tr>\n",
       "    <tr>\n",
       "      <th>3</th>\n",
       "      <td>158.222.5.157 - - [25/Oct/2015:04:24:31 +0100]...</td>\n",
       "      <td>158.222.5.157</td>\n",
       "      <td>Mozilla/5.0 (Windows NT 6.3; WOW64; rv:34.0) G...</td>\n",
       "      <td>2015-10-25 04:24:31+01:00</td>\n",
       "      <td>200.0</td>\n",
       "      <td>11114.0</td>\n",
       "    </tr>\n",
       "    <tr>\n",
       "      <th>4</th>\n",
       "      <td>158.222.5.157 - - [25/Oct/2015:04:24:32 +0100]...</td>\n",
       "      <td>158.222.5.157</td>\n",
       "      <td>Mozilla/5.0 (Windows NT 6.3; WOW64; rv:34.0) G...</td>\n",
       "      <td>2015-10-25 04:24:32+01:00</td>\n",
       "      <td>302.0</td>\n",
       "      <td>9093.0</td>\n",
       "    </tr>\n",
       "  </tbody>\n",
       "</table>\n",
       "</div>"
      ],
      "text/plain": [
       "                                             raw_log     remote_host  \\\n",
       "0  195.154.46.135 - - [25/Oct/2015:04:11:25 +0100...  195.154.46.135   \n",
       "1  23.95.237.180 - - [25/Oct/2015:04:11:26 +0100]...   23.95.237.180   \n",
       "2  23.95.237.180 - - [25/Oct/2015:04:11:27 +0100]...   23.95.237.180   \n",
       "3  158.222.5.157 - - [25/Oct/2015:04:24:31 +0100]...   158.222.5.157   \n",
       "4  158.222.5.157 - - [25/Oct/2015:04:24:32 +0100]...   158.222.5.157   \n",
       "\n",
       "                                          user_agent  \\\n",
       "0  Mozilla/5.0 (Windows NT 5.1; rv:35.0) Gecko/20...   \n",
       "1  Mozilla/5.0 (Windows NT 5.1; rv:35.0) Gecko/20...   \n",
       "2  Mozilla/5.0 (Windows NT 5.1; rv:35.0) Gecko/20...   \n",
       "3  Mozilla/5.0 (Windows NT 6.3; WOW64; rv:34.0) G...   \n",
       "4  Mozilla/5.0 (Windows NT 6.3; WOW64; rv:34.0) G...   \n",
       "\n",
       "                request_time  status    bytes  \n",
       "0  2015-10-25 04:11:25+01:00   200.0  24323.0  \n",
       "1  2015-10-25 04:11:26+01:00   200.0  11114.0  \n",
       "2  2015-10-25 04:11:27+01:00   302.0   9093.0  \n",
       "3  2015-10-25 04:24:31+01:00   200.0  11114.0  \n",
       "4  2015-10-25 04:24:32+01:00   302.0   9093.0  "
      ]
     },
     "execution_count": 16,
     "metadata": {},
     "output_type": "execute_result"
    }
   ],
   "source": [
    "#Read in the log file\n",
    "server_log = open(DATA_HOME + \"hackers-access.httpd\", \"r\")\n",
    "\n",
    "#Create an empty dataframe\n",
    "parsed_server_data = pd.DataFrame()\n",
    "\n",
    "# read and parse each line and store the information in the columns of the dataframe\n",
    "for num, line in enumerate(server_log):\n",
    "    data = {}\n",
    "    data = line_parser.parse(line)\n",
    "    parsed_server_data.loc[num,'raw_log']= data.entry\n",
    "    parsed_server_data.loc[num,'remote_host']= data.remote_host\n",
    "    parsed_server_data.loc[num,'user_agent']=data.headers_in[\"User-agent\"]\n",
    "    parsed_server_data.loc[num,'request_time']=data.request_time\n",
    "    parsed_server_data.loc[num,'status']=data.final_status\n",
    "    parsed_server_data.loc[num,'bytes']=data.bytes_sent\n",
    "\n",
    "parsed_server_data.head()"
   ]
  },
  {
   "cell_type": "code",
   "execution_count": 17,
   "metadata": {},
   "outputs": [
    {
     "name": "stdout",
     "output_type": "stream",
     "text": [
      "Requirement already satisfied: ua-parser in /Volumes/ext200/opt/miniconda3/envs/gtk-blackhat/lib/python3.11/site-packages (1.0.1)\n",
      "Requirement already satisfied: user-agents in /Volumes/ext200/opt/miniconda3/envs/gtk-blackhat/lib/python3.11/site-packages (2.2.0)\n",
      "Requirement already satisfied: ua-parser-builtins in /Volumes/ext200/opt/miniconda3/envs/gtk-blackhat/lib/python3.11/site-packages (from ua-parser) (0.18.0.post1)\n"
     ]
    }
   ],
   "source": [
    "!pip install ua-parser user-agents"
   ]
  },
  {
   "cell_type": "code",
   "execution_count": 18,
   "metadata": {},
   "outputs": [],
   "source": [
    "# Step 3: Fix the functions to parse os and family from the user_agent column\n",
    "from user_agents import parse\n",
    "\n",
    "def get_os(x):\n",
    "    user_agent_os = parse(x).os\n",
    "    return user_agent_os\n",
    "\n",
    "def get_browser(x):\n",
    "    user_agent_browser = parse(x).browser\n",
    "    return user_agent_browser"
   ]
  },
  {
   "cell_type": "markdown",
   "metadata": {},
   "source": [
    "First let's see what these functions do on the user_agent portion of our single log"
   ]
  },
  {
   "cell_type": "code",
   "execution_count": 19,
   "metadata": {},
   "outputs": [
    {
     "data": {
      "text/plain": [
       "OperatingSystem(family='Windows', version=(7,), version_string='7')"
      ]
     },
     "execution_count": 19,
     "metadata": {},
     "output_type": "execute_result"
    }
   ],
   "source": [
    "get_os(log_dict.headers_in[\"User-agent\"])"
   ]
  },
  {
   "cell_type": "code",
   "execution_count": 20,
   "metadata": {},
   "outputs": [
    {
     "data": {
      "text/plain": [
       "Browser(family='Firefox', version=(32, 0), version_string='32.0')"
      ]
     },
     "execution_count": 20,
     "metadata": {},
     "output_type": "execute_result"
    }
   ],
   "source": [
    "get_browser(log_dict.headers_in[\"User-agent\"])"
   ]
  },
  {
   "cell_type": "code",
   "execution_count": 21,
   "metadata": {
    "ExecuteTime": {
     "end_time": "2022-12-05T14:17:14.013359Z",
     "start_time": "2022-12-05T14:17:14.009556Z"
    }
   },
   "outputs": [],
   "source": [
    "# Fixed functions. We need to get only the 'family' item from these objects. \n",
    "\n",
    "def get_os(x):\n",
    "    user_agent_os = parse(x).os.family\n",
    "    return user_agent_os\n",
    "\n",
    "def get_browser(x):\n",
    "    user_agent_browser = parse(x).browser.family\n",
    "    return user_agent_browser"
   ]
  },
  {
   "cell_type": "code",
   "execution_count": 22,
   "metadata": {
    "ExecuteTime": {
     "end_time": "2022-12-05T14:17:25.315979Z",
     "start_time": "2022-12-05T14:17:25.203579Z"
    }
   },
   "outputs": [],
   "source": [
    "#Apply the functions to the dataframe\n",
    "parsed_server_data['os'] = parsed_server_data['user_agent'].apply( get_os )\n",
    "parsed_server_data['browser'] = parsed_server_data['user_agent'].apply( get_browser )"
   ]
  },
  {
   "cell_type": "code",
   "execution_count": 23,
   "metadata": {
    "ExecuteTime": {
     "end_time": "2022-12-05T14:17:27.328287Z",
     "start_time": "2022-12-05T14:17:27.296447Z"
    }
   },
   "outputs": [
    {
     "data": {
      "text/html": [
       "<div>\n",
       "<style scoped>\n",
       "    .dataframe tbody tr th:only-of-type {\n",
       "        vertical-align: middle;\n",
       "    }\n",
       "\n",
       "    .dataframe tbody tr th {\n",
       "        vertical-align: top;\n",
       "    }\n",
       "\n",
       "    .dataframe thead th {\n",
       "        text-align: right;\n",
       "    }\n",
       "</style>\n",
       "<table border=\"1\" class=\"dataframe\">\n",
       "  <thead>\n",
       "    <tr style=\"text-align: right;\">\n",
       "      <th></th>\n",
       "      <th>raw_log</th>\n",
       "      <th>remote_host</th>\n",
       "      <th>user_agent</th>\n",
       "      <th>request_time</th>\n",
       "      <th>status</th>\n",
       "      <th>bytes</th>\n",
       "      <th>os</th>\n",
       "      <th>browser</th>\n",
       "    </tr>\n",
       "  </thead>\n",
       "  <tbody>\n",
       "    <tr>\n",
       "      <th>2056</th>\n",
       "      <td>23.231.24.101 - - [28/Oct/2015:12:06:04 +0100]...</td>\n",
       "      <td>23.231.24.101</td>\n",
       "      <td>Mozilla/5.0 (X11; Linux i686; rv:17.0) Gecko/2...</td>\n",
       "      <td>2015-10-28 12:06:04+01:00</td>\n",
       "      <td>302.0</td>\n",
       "      <td>10170.0</td>\n",
       "      <td>Linux</td>\n",
       "      <td>Firefox</td>\n",
       "    </tr>\n",
       "    <tr>\n",
       "      <th>685</th>\n",
       "      <td>23.95.201.243 - - [26/Oct/2015:08:59:14 +0100]...</td>\n",
       "      <td>23.95.201.243</td>\n",
       "      <td>Mozilla/5.0 (Windows NT 6.0; rv:34.0) Gecko/20...</td>\n",
       "      <td>2015-10-26 08:59:14+01:00</td>\n",
       "      <td>302.0</td>\n",
       "      <td>10170.0</td>\n",
       "      <td>Windows</td>\n",
       "      <td>Firefox</td>\n",
       "    </tr>\n",
       "    <tr>\n",
       "      <th>1386</th>\n",
       "      <td>107.161.83.180 - - [27/Oct/2015:09:46:31 +0100...</td>\n",
       "      <td>107.161.83.180</td>\n",
       "      <td>Mozilla/5.0 (X11; CrOS x86_64 6310.68.0) Apple...</td>\n",
       "      <td>2015-10-27 09:46:31+01:00</td>\n",
       "      <td>200.0</td>\n",
       "      <td>12191.0</td>\n",
       "      <td>Chrome OS</td>\n",
       "      <td>Chrome</td>\n",
       "    </tr>\n",
       "    <tr>\n",
       "      <th>269</th>\n",
       "      <td>167.160.127.104 - - [25/Oct/2015:15:03:33 +010...</td>\n",
       "      <td>167.160.127.104</td>\n",
       "      <td>Mozilla/5.0 (Windows NT 5.1; rv:35.0) Gecko/20...</td>\n",
       "      <td>2015-10-25 15:03:33+01:00</td>\n",
       "      <td>200.0</td>\n",
       "      <td>10716.0</td>\n",
       "      <td>Windows</td>\n",
       "      <td>Firefox</td>\n",
       "    </tr>\n",
       "    <tr>\n",
       "      <th>3268</th>\n",
       "      <td>208.115.125.58 - - [30/Oct/2015:07:09:12 +0100...</td>\n",
       "      <td>208.115.125.58</td>\n",
       "      <td>Mozilla/5.0 (Windows NT 6.1; rv:32.0) Gecko/20...</td>\n",
       "      <td>2015-10-30 07:09:12+01:00</td>\n",
       "      <td>200.0</td>\n",
       "      <td>18354.0</td>\n",
       "      <td>Windows</td>\n",
       "      <td>Firefox</td>\n",
       "    </tr>\n",
       "  </tbody>\n",
       "</table>\n",
       "</div>"
      ],
      "text/plain": [
       "                                                raw_log      remote_host  \\\n",
       "2056  23.231.24.101 - - [28/Oct/2015:12:06:04 +0100]...    23.231.24.101   \n",
       "685   23.95.201.243 - - [26/Oct/2015:08:59:14 +0100]...    23.95.201.243   \n",
       "1386  107.161.83.180 - - [27/Oct/2015:09:46:31 +0100...   107.161.83.180   \n",
       "269   167.160.127.104 - - [25/Oct/2015:15:03:33 +010...  167.160.127.104   \n",
       "3268  208.115.125.58 - - [30/Oct/2015:07:09:12 +0100...   208.115.125.58   \n",
       "\n",
       "                                             user_agent  \\\n",
       "2056  Mozilla/5.0 (X11; Linux i686; rv:17.0) Gecko/2...   \n",
       "685   Mozilla/5.0 (Windows NT 6.0; rv:34.0) Gecko/20...   \n",
       "1386  Mozilla/5.0 (X11; CrOS x86_64 6310.68.0) Apple...   \n",
       "269   Mozilla/5.0 (Windows NT 5.1; rv:35.0) Gecko/20...   \n",
       "3268  Mozilla/5.0 (Windows NT 6.1; rv:32.0) Gecko/20...   \n",
       "\n",
       "                   request_time  status    bytes         os  browser  \n",
       "2056  2015-10-28 12:06:04+01:00   302.0  10170.0      Linux  Firefox  \n",
       "685   2015-10-26 08:59:14+01:00   302.0  10170.0    Windows  Firefox  \n",
       "1386  2015-10-27 09:46:31+01:00   200.0  12191.0  Chrome OS   Chrome  \n",
       "269   2015-10-25 15:03:33+01:00   200.0  10716.0    Windows  Firefox  \n",
       "3268  2015-10-30 07:09:12+01:00   200.0  18354.0    Windows  Firefox  "
      ]
     },
     "execution_count": 23,
     "metadata": {},
     "output_type": "execute_result"
    }
   ],
   "source": [
    "parsed_server_data.sample(5)"
   ]
  },
  {
   "cell_type": "code",
   "execution_count": 24,
   "metadata": {
    "ExecuteTime": {
     "end_time": "2022-12-05T14:17:58.228844Z",
     "start_time": "2022-12-05T14:17:58.222178Z"
    }
   },
   "outputs": [
    {
     "data": {
      "text/plain": [
       "os\n",
       "Windows      3185\n",
       "Linux         125\n",
       "Mac OS X       80\n",
       "Chrome OS      60\n",
       "Ubuntu          6\n",
       "Name: count, dtype: int64"
      ]
     },
     "execution_count": 24,
     "metadata": {},
     "output_type": "execute_result"
    }
   ],
   "source": [
    "#Step 6: Count the values in new columns\n",
    "parsed_server_data['os'].value_counts()"
   ]
  },
  {
   "cell_type": "code",
   "execution_count": 25,
   "metadata": {
    "ExecuteTime": {
     "end_time": "2022-12-05T14:17:59.126915Z",
     "start_time": "2022-12-05T14:17:59.121481Z"
    }
   },
   "outputs": [
    {
     "data": {
      "text/plain": [
       "browser\n",
       "Firefox    1476\n",
       "Chrome      789\n",
       "Opera       556\n",
       "Dragon      533\n",
       "IE           78\n",
       "Safari       24\n",
       "Name: count, dtype: int64"
      ]
     },
     "execution_count": 25,
     "metadata": {},
     "output_type": "execute_result"
    }
   ],
   "source": [
    "parsed_server_data['browser'].value_counts()"
   ]
  },
  {
   "cell_type": "code",
   "execution_count": 26,
   "metadata": {},
   "outputs": [
    {
     "data": {
      "text/plain": [
       "os\n",
       "Windows     3185\n",
       "Linux        125\n",
       "Mac OS X      80\n",
       "Name: count, dtype: int64"
      ]
     },
     "execution_count": 26,
     "metadata": {},
     "output_type": "execute_result"
    }
   ],
   "source": [
    "#Get the top 3 values\n",
    "parsed_server_data['os'].value_counts().head(3)"
   ]
  },
  {
   "cell_type": "code",
   "execution_count": 27,
   "metadata": {},
   "outputs": [
    {
     "data": {
      "text/plain": [
       "browser\n",
       "Safari     24\n",
       "IE         78\n",
       "Dragon    533\n",
       "Name: count, dtype: int64"
      ]
     },
     "execution_count": 27,
     "metadata": {},
     "output_type": "execute_result"
    }
   ],
   "source": [
    "#Get lowest 3 values\n",
    "parsed_server_data['browser'].value_counts(ascending=True).head(3)"
   ]
  },
  {
   "cell_type": "markdown",
   "metadata": {},
   "source": [
    "# Exercise 3:\n",
    "Using the `dailybots.csv` film, read the file into a DataFrame and perform the following operations:\n",
    "1.  Filter the DataFrame to include bots from the Government/Politics Industry.\n",
    "2.  Calculate the ratio of hosts to orgs and add this as a column to the DataFrame and output the result\n",
    "3.  Calculate the total number of hosts infected by each BotFam in the Government/Politics Industry.  You should use the `groupby()` function which is documented here: (http://pandas.pydata.org/pandas-docs/stable/groupby.html)\n"
   ]
  },
  {
   "cell_type": "code",
   "execution_count": 28,
   "metadata": {
    "ExecuteTime": {
     "end_time": "2022-12-05T14:18:08.992706Z",
     "start_time": "2022-12-05T14:18:08.976397Z"
    }
   },
   "outputs": [
    {
     "data": {
      "text/html": [
       "<div>\n",
       "<style scoped>\n",
       "    .dataframe tbody tr th:only-of-type {\n",
       "        vertical-align: middle;\n",
       "    }\n",
       "\n",
       "    .dataframe tbody tr th {\n",
       "        vertical-align: top;\n",
       "    }\n",
       "\n",
       "    .dataframe thead th {\n",
       "        text-align: right;\n",
       "    }\n",
       "</style>\n",
       "<table border=\"1\" class=\"dataframe\">\n",
       "  <thead>\n",
       "    <tr style=\"text-align: right;\">\n",
       "      <th></th>\n",
       "      <th>date</th>\n",
       "      <th>botfam</th>\n",
       "      <th>industry</th>\n",
       "      <th>hosts</th>\n",
       "      <th>orgs</th>\n",
       "    </tr>\n",
       "  </thead>\n",
       "  <tbody>\n",
       "    <tr>\n",
       "      <th>0</th>\n",
       "      <td>2016-06-01</td>\n",
       "      <td>Bedep</td>\n",
       "      <td>Education</td>\n",
       "      <td>88</td>\n",
       "      <td>33</td>\n",
       "    </tr>\n",
       "    <tr>\n",
       "      <th>1</th>\n",
       "      <td>2016-06-01</td>\n",
       "      <td>Bedep</td>\n",
       "      <td>Finance</td>\n",
       "      <td>387</td>\n",
       "      <td>17</td>\n",
       "    </tr>\n",
       "    <tr>\n",
       "      <th>2</th>\n",
       "      <td>2016-06-01</td>\n",
       "      <td>Bedep</td>\n",
       "      <td>Government/Politics</td>\n",
       "      <td>430</td>\n",
       "      <td>42</td>\n",
       "    </tr>\n",
       "    <tr>\n",
       "      <th>3</th>\n",
       "      <td>2016-06-01</td>\n",
       "      <td>Bedep</td>\n",
       "      <td>Healthcare/Wellness</td>\n",
       "      <td>42</td>\n",
       "      <td>19</td>\n",
       "    </tr>\n",
       "    <tr>\n",
       "      <th>4</th>\n",
       "      <td>2016-06-01</td>\n",
       "      <td>Bedep</td>\n",
       "      <td>Manufacturing</td>\n",
       "      <td>184</td>\n",
       "      <td>18</td>\n",
       "    </tr>\n",
       "  </tbody>\n",
       "</table>\n",
       "</div>"
      ],
      "text/plain": [
       "         date botfam             industry  hosts  orgs\n",
       "0  2016-06-01  Bedep            Education     88    33\n",
       "1  2016-06-01  Bedep              Finance    387    17\n",
       "2  2016-06-01  Bedep  Government/Politics    430    42\n",
       "3  2016-06-01  Bedep  Healthcare/Wellness     42    19\n",
       "4  2016-06-01  Bedep        Manufacturing    184    18"
      ]
     },
     "execution_count": 28,
     "metadata": {},
     "output_type": "execute_result"
    }
   ],
   "source": [
    "bots = pd.read_csv(DATA_HOME + 'dailybots.csv')\n",
    "bots.head()"
   ]
  },
  {
   "cell_type": "code",
   "execution_count": 29,
   "metadata": {
    "ExecuteTime": {
     "end_time": "2022-12-05T14:18:12.169679Z",
     "start_time": "2022-12-05T14:18:12.161309Z"
    }
   },
   "outputs": [],
   "source": [
    "bots_df = pd.read_csv(DATA_HOME + 'dailybots.csv')"
   ]
  },
  {
   "cell_type": "code",
   "execution_count": 30,
   "metadata": {
    "ExecuteTime": {
     "end_time": "2022-12-05T14:18:17.893744Z",
     "start_time": "2022-12-05T14:18:17.887190Z"
    }
   },
   "outputs": [],
   "source": [
    "gov_df = bots_df[bots_df['industry'] == \"Government/Politics\"]"
   ]
  },
  {
   "cell_type": "code",
   "execution_count": 31,
   "metadata": {
    "ExecuteTime": {
     "end_time": "2022-12-05T14:18:19.030158Z",
     "start_time": "2022-12-05T14:18:19.023314Z"
    }
   },
   "outputs": [
    {
     "data": {
      "text/html": [
       "<div>\n",
       "<style scoped>\n",
       "    .dataframe tbody tr th:only-of-type {\n",
       "        vertical-align: middle;\n",
       "    }\n",
       "\n",
       "    .dataframe tbody tr th {\n",
       "        vertical-align: top;\n",
       "    }\n",
       "\n",
       "    .dataframe thead th {\n",
       "        text-align: right;\n",
       "    }\n",
       "</style>\n",
       "<table border=\"1\" class=\"dataframe\">\n",
       "  <thead>\n",
       "    <tr style=\"text-align: right;\">\n",
       "      <th></th>\n",
       "      <th>date</th>\n",
       "      <th>botfam</th>\n",
       "      <th>industry</th>\n",
       "      <th>hosts</th>\n",
       "      <th>orgs</th>\n",
       "    </tr>\n",
       "  </thead>\n",
       "  <tbody>\n",
       "    <tr>\n",
       "      <th>2</th>\n",
       "      <td>2016-06-01</td>\n",
       "      <td>Bedep</td>\n",
       "      <td>Government/Politics</td>\n",
       "      <td>430</td>\n",
       "      <td>42</td>\n",
       "    </tr>\n",
       "    <tr>\n",
       "      <th>8</th>\n",
       "      <td>2016-06-01</td>\n",
       "      <td>ConfickerAB</td>\n",
       "      <td>Government/Politics</td>\n",
       "      <td>255</td>\n",
       "      <td>38</td>\n",
       "    </tr>\n",
       "    <tr>\n",
       "      <th>14</th>\n",
       "      <td>2016-06-01</td>\n",
       "      <td>Necurs</td>\n",
       "      <td>Government/Politics</td>\n",
       "      <td>277</td>\n",
       "      <td>25</td>\n",
       "    </tr>\n",
       "    <tr>\n",
       "      <th>23</th>\n",
       "      <td>2016-06-01</td>\n",
       "      <td>PushDo</td>\n",
       "      <td>Government/Politics</td>\n",
       "      <td>8</td>\n",
       "      <td>2</td>\n",
       "    </tr>\n",
       "    <tr>\n",
       "      <th>28</th>\n",
       "      <td>2016-06-01</td>\n",
       "      <td>Ramnit</td>\n",
       "      <td>Government/Politics</td>\n",
       "      <td>53</td>\n",
       "      <td>6</td>\n",
       "    </tr>\n",
       "  </tbody>\n",
       "</table>\n",
       "</div>"
      ],
      "text/plain": [
       "          date       botfam             industry  hosts  orgs\n",
       "2   2016-06-01        Bedep  Government/Politics    430    42\n",
       "8   2016-06-01  ConfickerAB  Government/Politics    255    38\n",
       "14  2016-06-01       Necurs  Government/Politics    277    25\n",
       "23  2016-06-01       PushDo  Government/Politics      8     2\n",
       "28  2016-06-01       Ramnit  Government/Politics     53     6"
      ]
     },
     "execution_count": 31,
     "metadata": {},
     "output_type": "execute_result"
    }
   ],
   "source": [
    "gov_df.head()"
   ]
  },
  {
   "cell_type": "code",
   "execution_count": 46,
   "metadata": {
    "ExecuteTime": {
     "end_time": "2022-12-05T14:18:22.422956Z",
     "start_time": "2022-12-05T14:18:22.411672Z"
    }
   },
   "outputs": [
    {
     "data": {
      "text/html": [
       "<div>\n",
       "<style scoped>\n",
       "    .dataframe tbody tr th:only-of-type {\n",
       "        vertical-align: middle;\n",
       "    }\n",
       "\n",
       "    .dataframe tbody tr th {\n",
       "        vertical-align: top;\n",
       "    }\n",
       "\n",
       "    .dataframe thead th {\n",
       "        text-align: right;\n",
       "    }\n",
       "</style>\n",
       "<table border=\"1\" class=\"dataframe\">\n",
       "  <thead>\n",
       "    <tr style=\"text-align: right;\">\n",
       "      <th></th>\n",
       "      <th>date</th>\n",
       "      <th>botfam</th>\n",
       "      <th>industry</th>\n",
       "      <th>hosts</th>\n",
       "      <th>orgs</th>\n",
       "      <th>ratio</th>\n",
       "    </tr>\n",
       "  </thead>\n",
       "  <tbody>\n",
       "    <tr>\n",
       "      <th>2</th>\n",
       "      <td>2016-06-01</td>\n",
       "      <td>Bedep</td>\n",
       "      <td>Government/Politics</td>\n",
       "      <td>430</td>\n",
       "      <td>42</td>\n",
       "      <td>10.238095</td>\n",
       "    </tr>\n",
       "    <tr>\n",
       "      <th>8</th>\n",
       "      <td>2016-06-01</td>\n",
       "      <td>ConfickerAB</td>\n",
       "      <td>Government/Politics</td>\n",
       "      <td>255</td>\n",
       "      <td>38</td>\n",
       "      <td>6.710526</td>\n",
       "    </tr>\n",
       "    <tr>\n",
       "      <th>14</th>\n",
       "      <td>2016-06-01</td>\n",
       "      <td>Necurs</td>\n",
       "      <td>Government/Politics</td>\n",
       "      <td>277</td>\n",
       "      <td>25</td>\n",
       "      <td>11.080000</td>\n",
       "    </tr>\n",
       "    <tr>\n",
       "      <th>23</th>\n",
       "      <td>2016-06-01</td>\n",
       "      <td>PushDo</td>\n",
       "      <td>Government/Politics</td>\n",
       "      <td>8</td>\n",
       "      <td>2</td>\n",
       "      <td>4.000000</td>\n",
       "    </tr>\n",
       "    <tr>\n",
       "      <th>28</th>\n",
       "      <td>2016-06-01</td>\n",
       "      <td>Ramnit</td>\n",
       "      <td>Government/Politics</td>\n",
       "      <td>53</td>\n",
       "      <td>6</td>\n",
       "      <td>8.833333</td>\n",
       "    </tr>\n",
       "  </tbody>\n",
       "</table>\n",
       "</div>"
      ],
      "text/plain": [
       "          date       botfam             industry  hosts  orgs      ratio\n",
       "2   2016-06-01        Bedep  Government/Politics    430    42  10.238095\n",
       "8   2016-06-01  ConfickerAB  Government/Politics    255    38   6.710526\n",
       "14  2016-06-01       Necurs  Government/Politics    277    25  11.080000\n",
       "23  2016-06-01       PushDo  Government/Politics      8     2   4.000000\n",
       "28  2016-06-01       Ramnit  Government/Politics     53     6   8.833333"
      ]
     },
     "execution_count": 46,
     "metadata": {},
     "output_type": "execute_result"
    }
   ],
   "source": [
    "gov_df.loc[:,'ratio'] = gov_df.loc[:,'hosts']/ gov_df.loc[:,'orgs']\n",
    "gov_df.head()"
   ]
  },
  {
   "cell_type": "code",
   "execution_count": 33,
   "metadata": {
    "ExecuteTime": {
     "end_time": "2020-12-07T15:43:31.333490Z",
     "start_time": "2020-12-07T15:43:31.328526Z"
    }
   },
   "outputs": [],
   "source": [
    "gov_bots = bots[['botfam', 'hosts']][bots['industry'] == \"Government/Politics\"]"
   ]
  },
  {
   "cell_type": "code",
   "execution_count": 34,
   "metadata": {
    "ExecuteTime": {
     "end_time": "2020-12-07T15:43:41.243654Z",
     "start_time": "2020-12-07T15:43:41.239401Z"
    }
   },
   "outputs": [],
   "source": [
    "gov_bots['ratio'] = bots['hosts'] / bots['orgs']"
   ]
  },
  {
   "cell_type": "code",
   "execution_count": 35,
   "metadata": {
    "ExecuteTime": {
     "end_time": "2020-12-07T15:45:31.025161Z",
     "start_time": "2020-12-07T15:45:31.014258Z"
    }
   },
   "outputs": [
    {
     "data": {
      "text/html": [
       "<div>\n",
       "<style scoped>\n",
       "    .dataframe tbody tr th:only-of-type {\n",
       "        vertical-align: middle;\n",
       "    }\n",
       "\n",
       "    .dataframe tbody tr th {\n",
       "        vertical-align: top;\n",
       "    }\n",
       "\n",
       "    .dataframe thead th {\n",
       "        text-align: right;\n",
       "    }\n",
       "</style>\n",
       "<table border=\"1\" class=\"dataframe\">\n",
       "  <thead>\n",
       "    <tr style=\"text-align: right;\">\n",
       "      <th></th>\n",
       "      <th>botfam</th>\n",
       "      <th>hosts</th>\n",
       "      <th>ratio</th>\n",
       "    </tr>\n",
       "  </thead>\n",
       "  <tbody>\n",
       "    <tr>\n",
       "      <th>2150</th>\n",
       "      <td>Bedep</td>\n",
       "      <td>6</td>\n",
       "      <td>1.5000</td>\n",
       "    </tr>\n",
       "    <tr>\n",
       "      <th>751</th>\n",
       "      <td>Necurs</td>\n",
       "      <td>205</td>\n",
       "      <td>12.8125</td>\n",
       "    </tr>\n",
       "    <tr>\n",
       "      <th>2114</th>\n",
       "      <td>PushDo</td>\n",
       "      <td>2</td>\n",
       "      <td>1.0000</td>\n",
       "    </tr>\n",
       "    <tr>\n",
       "      <th>1384</th>\n",
       "      <td>PushDo</td>\n",
       "      <td>1</td>\n",
       "      <td>1.0000</td>\n",
       "    </tr>\n",
       "    <tr>\n",
       "      <th>2469</th>\n",
       "      <td>Zeus</td>\n",
       "      <td>5</td>\n",
       "      <td>1.2500</td>\n",
       "    </tr>\n",
       "  </tbody>\n",
       "</table>\n",
       "</div>"
      ],
      "text/plain": [
       "      botfam  hosts    ratio\n",
       "2150   Bedep      6   1.5000\n",
       "751   Necurs    205  12.8125\n",
       "2114  PushDo      2   1.0000\n",
       "1384  PushDo      1   1.0000\n",
       "2469    Zeus      5   1.2500"
      ]
     },
     "execution_count": 35,
     "metadata": {},
     "output_type": "execute_result"
    }
   ],
   "source": [
    "gov_bots.sample(5)"
   ]
  },
  {
   "cell_type": "code",
   "execution_count": 36,
   "metadata": {
    "ExecuteTime": {
     "end_time": "2020-09-29T06:44:24.842668Z",
     "start_time": "2020-09-29T06:44:24.830428Z"
    }
   },
   "outputs": [
    {
     "data": {
      "text/html": [
       "<div>\n",
       "<style scoped>\n",
       "    .dataframe tbody tr th:only-of-type {\n",
       "        vertical-align: middle;\n",
       "    }\n",
       "\n",
       "    .dataframe tbody tr th {\n",
       "        vertical-align: top;\n",
       "    }\n",
       "\n",
       "    .dataframe thead th {\n",
       "        text-align: right;\n",
       "    }\n",
       "</style>\n",
       "<table border=\"1\" class=\"dataframe\">\n",
       "  <thead>\n",
       "    <tr style=\"text-align: right;\">\n",
       "      <th></th>\n",
       "      <th>botfam</th>\n",
       "      <th>hosts</th>\n",
       "      <th>ratio</th>\n",
       "    </tr>\n",
       "  </thead>\n",
       "  <tbody>\n",
       "    <tr>\n",
       "      <th>0</th>\n",
       "      <td>Bedep</td>\n",
       "      <td>6183</td>\n",
       "      <td>439.178237</td>\n",
       "    </tr>\n",
       "    <tr>\n",
       "      <th>1</th>\n",
       "      <td>ConfickerAB</td>\n",
       "      <td>28818</td>\n",
       "      <td>845.615097</td>\n",
       "    </tr>\n",
       "    <tr>\n",
       "      <th>2</th>\n",
       "      <td>Necurs</td>\n",
       "      <td>12425</td>\n",
       "      <td>1170.878964</td>\n",
       "    </tr>\n",
       "    <tr>\n",
       "      <th>3</th>\n",
       "      <td>Olmasco</td>\n",
       "      <td>83</td>\n",
       "      <td>75.500000</td>\n",
       "    </tr>\n",
       "    <tr>\n",
       "      <th>4</th>\n",
       "      <td>PushDo</td>\n",
       "      <td>2164</td>\n",
       "      <td>1252.500000</td>\n",
       "    </tr>\n",
       "    <tr>\n",
       "      <th>5</th>\n",
       "      <td>Ramnit</td>\n",
       "      <td>4484</td>\n",
       "      <td>1053.139638</td>\n",
       "    </tr>\n",
       "    <tr>\n",
       "      <th>6</th>\n",
       "      <td>Sality</td>\n",
       "      <td>7466</td>\n",
       "      <td>775.046134</td>\n",
       "    </tr>\n",
       "    <tr>\n",
       "      <th>7</th>\n",
       "      <td>Zeus</td>\n",
       "      <td>965</td>\n",
       "      <td>157.967915</td>\n",
       "    </tr>\n",
       "    <tr>\n",
       "      <th>8</th>\n",
       "      <td>Zusy</td>\n",
       "      <td>227</td>\n",
       "      <td>100.133333</td>\n",
       "    </tr>\n",
       "    <tr>\n",
       "      <th>9</th>\n",
       "      <td>zeroaccess</td>\n",
       "      <td>886</td>\n",
       "      <td>205.291270</td>\n",
       "    </tr>\n",
       "  </tbody>\n",
       "</table>\n",
       "</div>"
      ],
      "text/plain": [
       "        botfam  hosts        ratio\n",
       "0        Bedep   6183   439.178237\n",
       "1  ConfickerAB  28818   845.615097\n",
       "2       Necurs  12425  1170.878964\n",
       "3      Olmasco     83    75.500000\n",
       "4       PushDo   2164  1252.500000\n",
       "5       Ramnit   4484  1053.139638\n",
       "6       Sality   7466   775.046134\n",
       "7         Zeus    965   157.967915\n",
       "8         Zusy    227   100.133333\n",
       "9   zeroaccess    886   205.291270"
      ]
     },
     "execution_count": 36,
     "metadata": {},
     "output_type": "execute_result"
    }
   ],
   "source": [
    "gov_bots.groupby('botfam', as_index=False).sum()"
   ]
  },
  {
   "cell_type": "code",
   "execution_count": 37,
   "metadata": {},
   "outputs": [
    {
     "data": {
      "text/plain": [
       "botfam    BedepConfickerABNecursPushDoRamnitSalityzeroac...\n",
       "hosts                                                 63701\n",
       "ratio                                           6075.250588\n",
       "dtype: object"
      ]
     },
     "execution_count": 37,
     "metadata": {},
     "output_type": "execute_result"
    }
   ],
   "source": [
    "gov_bots.sum(axis='index')"
   ]
  },
  {
   "cell_type": "markdown",
   "metadata": {},
   "source": [
    "# Exercise 4:\n",
    "\n",
    "Read a more ```evil``` JSON ```eve_small.json```, where each line contains a nested JSON object. Derive one DataFrame, where all levels for the ```stats``` key are expanded to a top level column of that DataFrame. Easiest is to natively open the file in Python, loop over each line, use [json.loads](https://docs.python.org/3.5/library/json.html) from the json library, and then [json_normalize](http://pandas.pydata.org/pandas-docs/stable/generated/pandas.io.json.json_normalize.html) to expand the nested structure to top-level columns, append to a simple Python list and finally call [pd.concat](http://pandas.pydata.org/pandas-docs/version/0.20/generated/pandas.concat.html) on the list to get one complete DataFrame."
   ]
  },
  {
   "cell_type": "code",
   "execution_count": 38,
   "metadata": {
    "ExecuteTime": {
     "end_time": "2020-12-07T15:47:23.741552Z",
     "start_time": "2020-12-07T15:47:23.736133Z"
    }
   },
   "outputs": [],
   "source": [
    "def nested_json_to_df(fname_str):\n",
    "    with open(fname_str, 'r') as f:\n",
    "        l = []\n",
    "        for line in f:\n",
    "            if not line.strip():\n",
    "                continue\n",
    "            else:\n",
    "                d = json.loads(line)\n",
    "                if 'stats' in d.keys():\n",
    "                    df_tmp = pd.json_normalize(d)\n",
    "                    l.append(df_tmp)       \n",
    "    return pd.concat(l, ignore_index=True)"
   ]
  },
  {
   "cell_type": "code",
   "execution_count": 39,
   "metadata": {
    "ExecuteTime": {
     "end_time": "2020-12-07T15:47:27.144223Z",
     "start_time": "2020-12-07T15:47:26.426671Z"
    }
   },
   "outputs": [],
   "source": [
    "eve = nested_json_to_df(DATA_HOME + 'eve_small.json')"
   ]
  },
  {
   "cell_type": "code",
   "execution_count": 40,
   "metadata": {
    "ExecuteTime": {
     "end_time": "2020-12-07T15:47:28.202581Z",
     "start_time": "2020-12-07T15:47:28.186804Z"
    }
   },
   "outputs": [
    {
     "data": {
      "text/html": [
       "<div>\n",
       "<style scoped>\n",
       "    .dataframe tbody tr th:only-of-type {\n",
       "        vertical-align: middle;\n",
       "    }\n",
       "\n",
       "    .dataframe tbody tr th {\n",
       "        vertical-align: top;\n",
       "    }\n",
       "\n",
       "    .dataframe thead th {\n",
       "        text-align: right;\n",
       "    }\n",
       "</style>\n",
       "<table border=\"1\" class=\"dataframe\">\n",
       "  <thead>\n",
       "    <tr style=\"text-align: right;\">\n",
       "      <th></th>\n",
       "      <th>timestamp</th>\n",
       "      <th>event_type</th>\n",
       "      <th>stats.uptime</th>\n",
       "      <th>stats.capture.kernel_packets</th>\n",
       "      <th>stats.capture.kernel_drops</th>\n",
       "      <th>stats.decoder.pkts</th>\n",
       "      <th>stats.decoder.bytes</th>\n",
       "      <th>stats.decoder.invalid</th>\n",
       "      <th>stats.decoder.ipv4</th>\n",
       "      <th>stats.decoder.ipv6</th>\n",
       "      <th>...</th>\n",
       "      <th>stats.flow_mgr.rows_checked</th>\n",
       "      <th>stats.flow_mgr.rows_skipped</th>\n",
       "      <th>stats.flow_mgr.rows_empty</th>\n",
       "      <th>stats.flow_mgr.rows_busy</th>\n",
       "      <th>stats.flow_mgr.rows_maxlen</th>\n",
       "      <th>stats.dns.memuse</th>\n",
       "      <th>stats.dns.memcap_state</th>\n",
       "      <th>stats.dns.memcap_global</th>\n",
       "      <th>stats.http.memuse</th>\n",
       "      <th>stats.http.memcap</th>\n",
       "    </tr>\n",
       "  </thead>\n",
       "  <tbody>\n",
       "    <tr>\n",
       "      <th>0</th>\n",
       "      <td>2017-04-06T18:15:19.000142+0000</td>\n",
       "      <td>stats</td>\n",
       "      <td>8</td>\n",
       "      <td>0</td>\n",
       "      <td>0</td>\n",
       "      <td>0</td>\n",
       "      <td>0</td>\n",
       "      <td>0</td>\n",
       "      <td>0</td>\n",
       "      <td>0</td>\n",
       "      <td>...</td>\n",
       "      <td>65536</td>\n",
       "      <td>65536</td>\n",
       "      <td>0</td>\n",
       "      <td>0</td>\n",
       "      <td>0</td>\n",
       "      <td>0</td>\n",
       "      <td>0</td>\n",
       "      <td>0</td>\n",
       "      <td>0</td>\n",
       "      <td>0</td>\n",
       "    </tr>\n",
       "    <tr>\n",
       "      <th>1</th>\n",
       "      <td>2017-04-06T18:15:27.000207+0000</td>\n",
       "      <td>stats</td>\n",
       "      <td>16</td>\n",
       "      <td>0</td>\n",
       "      <td>0</td>\n",
       "      <td>0</td>\n",
       "      <td>0</td>\n",
       "      <td>0</td>\n",
       "      <td>0</td>\n",
       "      <td>0</td>\n",
       "      <td>...</td>\n",
       "      <td>65536</td>\n",
       "      <td>65536</td>\n",
       "      <td>0</td>\n",
       "      <td>0</td>\n",
       "      <td>0</td>\n",
       "      <td>0</td>\n",
       "      <td>0</td>\n",
       "      <td>0</td>\n",
       "      <td>0</td>\n",
       "      <td>0</td>\n",
       "    </tr>\n",
       "    <tr>\n",
       "      <th>2</th>\n",
       "      <td>2017-04-06T18:15:34.000173+0000</td>\n",
       "      <td>stats</td>\n",
       "      <td>23</td>\n",
       "      <td>2</td>\n",
       "      <td>0</td>\n",
       "      <td>2</td>\n",
       "      <td>180</td>\n",
       "      <td>0</td>\n",
       "      <td>0</td>\n",
       "      <td>2</td>\n",
       "      <td>...</td>\n",
       "      <td>65536</td>\n",
       "      <td>65536</td>\n",
       "      <td>0</td>\n",
       "      <td>0</td>\n",
       "      <td>0</td>\n",
       "      <td>0</td>\n",
       "      <td>0</td>\n",
       "      <td>0</td>\n",
       "      <td>0</td>\n",
       "      <td>0</td>\n",
       "    </tr>\n",
       "    <tr>\n",
       "      <th>3</th>\n",
       "      <td>2017-04-06T18:15:41.000203+0000</td>\n",
       "      <td>stats</td>\n",
       "      <td>30</td>\n",
       "      <td>2</td>\n",
       "      <td>0</td>\n",
       "      <td>2</td>\n",
       "      <td>180</td>\n",
       "      <td>0</td>\n",
       "      <td>0</td>\n",
       "      <td>2</td>\n",
       "      <td>...</td>\n",
       "      <td>65536</td>\n",
       "      <td>65536</td>\n",
       "      <td>0</td>\n",
       "      <td>0</td>\n",
       "      <td>0</td>\n",
       "      <td>0</td>\n",
       "      <td>0</td>\n",
       "      <td>0</td>\n",
       "      <td>0</td>\n",
       "      <td>0</td>\n",
       "    </tr>\n",
       "    <tr>\n",
       "      <th>4</th>\n",
       "      <td>2017-04-06T18:15:48.000097+0000</td>\n",
       "      <td>stats</td>\n",
       "      <td>37</td>\n",
       "      <td>2</td>\n",
       "      <td>0</td>\n",
       "      <td>2</td>\n",
       "      <td>180</td>\n",
       "      <td>0</td>\n",
       "      <td>0</td>\n",
       "      <td>2</td>\n",
       "      <td>...</td>\n",
       "      <td>65536</td>\n",
       "      <td>65536</td>\n",
       "      <td>0</td>\n",
       "      <td>0</td>\n",
       "      <td>0</td>\n",
       "      <td>0</td>\n",
       "      <td>0</td>\n",
       "      <td>0</td>\n",
       "      <td>0</td>\n",
       "      <td>0</td>\n",
       "    </tr>\n",
       "  </tbody>\n",
       "</table>\n",
       "<p>5 rows × 101 columns</p>\n",
       "</div>"
      ],
      "text/plain": [
       "                         timestamp event_type  stats.uptime  \\\n",
       "0  2017-04-06T18:15:19.000142+0000      stats             8   \n",
       "1  2017-04-06T18:15:27.000207+0000      stats            16   \n",
       "2  2017-04-06T18:15:34.000173+0000      stats            23   \n",
       "3  2017-04-06T18:15:41.000203+0000      stats            30   \n",
       "4  2017-04-06T18:15:48.000097+0000      stats            37   \n",
       "\n",
       "   stats.capture.kernel_packets  stats.capture.kernel_drops  \\\n",
       "0                             0                           0   \n",
       "1                             0                           0   \n",
       "2                             2                           0   \n",
       "3                             2                           0   \n",
       "4                             2                           0   \n",
       "\n",
       "   stats.decoder.pkts  stats.decoder.bytes  stats.decoder.invalid  \\\n",
       "0                   0                    0                      0   \n",
       "1                   0                    0                      0   \n",
       "2                   2                  180                      0   \n",
       "3                   2                  180                      0   \n",
       "4                   2                  180                      0   \n",
       "\n",
       "   stats.decoder.ipv4  stats.decoder.ipv6  ...  stats.flow_mgr.rows_checked  \\\n",
       "0                   0                   0  ...                        65536   \n",
       "1                   0                   0  ...                        65536   \n",
       "2                   0                   2  ...                        65536   \n",
       "3                   0                   2  ...                        65536   \n",
       "4                   0                   2  ...                        65536   \n",
       "\n",
       "   stats.flow_mgr.rows_skipped  stats.flow_mgr.rows_empty  \\\n",
       "0                        65536                          0   \n",
       "1                        65536                          0   \n",
       "2                        65536                          0   \n",
       "3                        65536                          0   \n",
       "4                        65536                          0   \n",
       "\n",
       "   stats.flow_mgr.rows_busy  stats.flow_mgr.rows_maxlen  stats.dns.memuse  \\\n",
       "0                         0                           0                 0   \n",
       "1                         0                           0                 0   \n",
       "2                         0                           0                 0   \n",
       "3                         0                           0                 0   \n",
       "4                         0                           0                 0   \n",
       "\n",
       "   stats.dns.memcap_state  stats.dns.memcap_global  stats.http.memuse  \\\n",
       "0                       0                        0                  0   \n",
       "1                       0                        0                  0   \n",
       "2                       0                        0                  0   \n",
       "3                       0                        0                  0   \n",
       "4                       0                        0                  0   \n",
       "\n",
       "   stats.http.memcap  \n",
       "0                  0  \n",
       "1                  0  \n",
       "2                  0  \n",
       "3                  0  \n",
       "4                  0  \n",
       "\n",
       "[5 rows x 101 columns]"
      ]
     },
     "execution_count": 40,
     "metadata": {},
     "output_type": "execute_result"
    }
   ],
   "source": [
    "eve.head()"
   ]
  },
  {
   "cell_type": "markdown",
   "metadata": {},
   "source": [
    "# Exercise 5\n",
    "In this exercise, you will learn how to do some basic summarization of PCAP data.  In the `data` directory, you will find a pcap file that has been converted into json format (see [https://kiminewt.github.io/pyshark/](https://kiminewt.github.io/pyshark/) for more on that) called `http-pcap.json`. \n",
    "\n",
    "Your assignment is to answer the following questions:\n",
    "1.  What are the most frequent source IP addresses?\n",
    "2.  How many differnet source ports were accessed?\n",
    "\n",
    "To do this you will have to load this data into a DataFrame.  Using what we've learned in class, do the following:\n",
    "1.  Load the data into a DataFrame using the technique of your choice\n",
    "2.  Extract the requisite columns from the DataFrame, in this case, you want the source IP and source ports\n",
    "3.  Execute a `value_counts()` on those columns.  "
   ]
  },
  {
   "cell_type": "code",
   "execution_count": 41,
   "metadata": {
    "ExecuteTime": {
     "end_time": "2020-09-29T06:50:25.361892Z",
     "start_time": "2020-09-29T06:50:25.326927Z"
    }
   },
   "outputs": [
    {
     "data": {
      "text/html": [
       "<div>\n",
       "<style scoped>\n",
       "    .dataframe tbody tr th:only-of-type {\n",
       "        vertical-align: middle;\n",
       "    }\n",
       "\n",
       "    .dataframe tbody tr th {\n",
       "        vertical-align: top;\n",
       "    }\n",
       "\n",
       "    .dataframe thead th {\n",
       "        text-align: right;\n",
       "    }\n",
       "</style>\n",
       "<table border=\"1\" class=\"dataframe\">\n",
       "  <thead>\n",
       "    <tr style=\"text-align: right;\">\n",
       "      <th></th>\n",
       "      <th>time</th>\n",
       "      <th>timestamp</th>\n",
       "      <th>IP.version</th>\n",
       "      <th>IP.ttl</th>\n",
       "      <th>IP.proto</th>\n",
       "      <th>IP.options</th>\n",
       "      <th>IP.len</th>\n",
       "      <th>IP.dst</th>\n",
       "      <th>IP.frag</th>\n",
       "      <th>IP.flags</th>\n",
       "      <th>...</th>\n",
       "      <th>DNS.opcode</th>\n",
       "      <th>DNS.rcode</th>\n",
       "      <th>DNS.ra</th>\n",
       "      <th>DNS.id</th>\n",
       "      <th>DNS.cd</th>\n",
       "      <th>DNS.an.rrname</th>\n",
       "      <th>DNS.an.rclass</th>\n",
       "      <th>DNS.an.type</th>\n",
       "      <th>DNS.an.ttl</th>\n",
       "      <th>DNS.an.rdata</th>\n",
       "    </tr>\n",
       "  </thead>\n",
       "  <tbody>\n",
       "    <tr>\n",
       "      <th>0</th>\n",
       "      <td>1.084443e+09</td>\n",
       "      <td>2004-05-13T10:17:07.311224</td>\n",
       "      <td>4</td>\n",
       "      <td>128</td>\n",
       "      <td>6</td>\n",
       "      <td>[]</td>\n",
       "      <td>48</td>\n",
       "      <td>65.208.228.223</td>\n",
       "      <td>0</td>\n",
       "      <td>2</td>\n",
       "      <td>...</td>\n",
       "      <td>NaN</td>\n",
       "      <td>NaN</td>\n",
       "      <td>NaN</td>\n",
       "      <td>NaN</td>\n",
       "      <td>NaN</td>\n",
       "      <td>NaN</td>\n",
       "      <td>NaN</td>\n",
       "      <td>NaN</td>\n",
       "      <td>NaN</td>\n",
       "      <td>NaN</td>\n",
       "    </tr>\n",
       "    <tr>\n",
       "      <th>1</th>\n",
       "      <td>1.084443e+09</td>\n",
       "      <td>2004-05-13T10:17:08.222534</td>\n",
       "      <td>4</td>\n",
       "      <td>47</td>\n",
       "      <td>6</td>\n",
       "      <td>[]</td>\n",
       "      <td>48</td>\n",
       "      <td>145.254.160.237</td>\n",
       "      <td>0</td>\n",
       "      <td>2</td>\n",
       "      <td>...</td>\n",
       "      <td>NaN</td>\n",
       "      <td>NaN</td>\n",
       "      <td>NaN</td>\n",
       "      <td>NaN</td>\n",
       "      <td>NaN</td>\n",
       "      <td>NaN</td>\n",
       "      <td>NaN</td>\n",
       "      <td>NaN</td>\n",
       "      <td>NaN</td>\n",
       "      <td>NaN</td>\n",
       "    </tr>\n",
       "    <tr>\n",
       "      <th>2</th>\n",
       "      <td>1.084443e+09</td>\n",
       "      <td>2004-05-13T10:17:08.222534</td>\n",
       "      <td>4</td>\n",
       "      <td>128</td>\n",
       "      <td>6</td>\n",
       "      <td>[]</td>\n",
       "      <td>40</td>\n",
       "      <td>65.208.228.223</td>\n",
       "      <td>0</td>\n",
       "      <td>2</td>\n",
       "      <td>...</td>\n",
       "      <td>NaN</td>\n",
       "      <td>NaN</td>\n",
       "      <td>NaN</td>\n",
       "      <td>NaN</td>\n",
       "      <td>NaN</td>\n",
       "      <td>NaN</td>\n",
       "      <td>NaN</td>\n",
       "      <td>NaN</td>\n",
       "      <td>NaN</td>\n",
       "      <td>NaN</td>\n",
       "    </tr>\n",
       "    <tr>\n",
       "      <th>3</th>\n",
       "      <td>1.084443e+09</td>\n",
       "      <td>2004-05-13T10:17:08.222534</td>\n",
       "      <td>4</td>\n",
       "      <td>128</td>\n",
       "      <td>6</td>\n",
       "      <td>[]</td>\n",
       "      <td>519</td>\n",
       "      <td>65.208.228.223</td>\n",
       "      <td>0</td>\n",
       "      <td>2</td>\n",
       "      <td>...</td>\n",
       "      <td>NaN</td>\n",
       "      <td>NaN</td>\n",
       "      <td>NaN</td>\n",
       "      <td>NaN</td>\n",
       "      <td>NaN</td>\n",
       "      <td>NaN</td>\n",
       "      <td>NaN</td>\n",
       "      <td>NaN</td>\n",
       "      <td>NaN</td>\n",
       "      <td>NaN</td>\n",
       "    </tr>\n",
       "    <tr>\n",
       "      <th>4</th>\n",
       "      <td>1.084443e+09</td>\n",
       "      <td>2004-05-13T10:17:08.783340</td>\n",
       "      <td>4</td>\n",
       "      <td>47</td>\n",
       "      <td>6</td>\n",
       "      <td>[]</td>\n",
       "      <td>40</td>\n",
       "      <td>145.254.160.237</td>\n",
       "      <td>0</td>\n",
       "      <td>2</td>\n",
       "      <td>...</td>\n",
       "      <td>NaN</td>\n",
       "      <td>NaN</td>\n",
       "      <td>NaN</td>\n",
       "      <td>NaN</td>\n",
       "      <td>NaN</td>\n",
       "      <td>NaN</td>\n",
       "      <td>NaN</td>\n",
       "      <td>NaN</td>\n",
       "      <td>NaN</td>\n",
       "      <td>NaN</td>\n",
       "    </tr>\n",
       "  </tbody>\n",
       "</table>\n",
       "<p>5 rows × 61 columns</p>\n",
       "</div>"
      ],
      "text/plain": [
       "           time                   timestamp  IP.version  IP.ttl  IP.proto  \\\n",
       "0  1.084443e+09  2004-05-13T10:17:07.311224           4     128         6   \n",
       "1  1.084443e+09  2004-05-13T10:17:08.222534           4      47         6   \n",
       "2  1.084443e+09  2004-05-13T10:17:08.222534           4     128         6   \n",
       "3  1.084443e+09  2004-05-13T10:17:08.222534           4     128         6   \n",
       "4  1.084443e+09  2004-05-13T10:17:08.783340           4      47         6   \n",
       "\n",
       "  IP.options  IP.len           IP.dst  IP.frag  IP.flags  ... DNS.opcode  \\\n",
       "0         []      48   65.208.228.223        0         2  ...        NaN   \n",
       "1         []      48  145.254.160.237        0         2  ...        NaN   \n",
       "2         []      40   65.208.228.223        0         2  ...        NaN   \n",
       "3         []     519   65.208.228.223        0         2  ...        NaN   \n",
       "4         []      40  145.254.160.237        0         2  ...        NaN   \n",
       "\n",
       "   DNS.rcode  DNS.ra  DNS.id  DNS.cd DNS.an.rrname  DNS.an.rclass DNS.an.type  \\\n",
       "0        NaN     NaN     NaN     NaN           NaN            NaN         NaN   \n",
       "1        NaN     NaN     NaN     NaN           NaN            NaN         NaN   \n",
       "2        NaN     NaN     NaN     NaN           NaN            NaN         NaN   \n",
       "3        NaN     NaN     NaN     NaN           NaN            NaN         NaN   \n",
       "4        NaN     NaN     NaN     NaN           NaN            NaN         NaN   \n",
       "\n",
       "   DNS.an.ttl  DNS.an.rdata  \n",
       "0         NaN           NaN  \n",
       "1         NaN           NaN  \n",
       "2         NaN           NaN  \n",
       "3         NaN           NaN  \n",
       "4         NaN           NaN  \n",
       "\n",
       "[5 rows x 61 columns]"
      ]
     },
     "execution_count": 41,
     "metadata": {},
     "output_type": "execute_result"
    }
   ],
   "source": [
    "#Load the data\n",
    "with open(DATA_HOME + 'http-pcap.json') as data_file:    \n",
    "    pcap_data = json.load(data_file)\n",
    "\n",
    "#Normalize it and load it into a DataFrame\n",
    "df = pd.DataFrame( pd.json_normalize(pcap_data) )\n",
    "\n",
    "#View the results\n",
    "df.head()"
   ]
  },
  {
   "cell_type": "code",
   "execution_count": 42,
   "metadata": {
    "ExecuteTime": {
     "end_time": "2020-09-29T06:50:48.521673Z",
     "start_time": "2020-09-29T06:50:48.510203Z"
    }
   },
   "outputs": [],
   "source": [
    "df1 = pd.read_json(DATA_HOME + 'http-pcap.json')"
   ]
  },
  {
   "cell_type": "code",
   "execution_count": 43,
   "metadata": {
    "ExecuteTime": {
     "end_time": "2020-09-29T06:50:57.055131Z",
     "start_time": "2020-09-29T06:50:57.037590Z"
    }
   },
   "outputs": [
    {
     "data": {
      "text/html": [
       "<div>\n",
       "<style scoped>\n",
       "    .dataframe tbody tr th:only-of-type {\n",
       "        vertical-align: middle;\n",
       "    }\n",
       "\n",
       "    .dataframe tbody tr th {\n",
       "        vertical-align: top;\n",
       "    }\n",
       "\n",
       "    .dataframe thead th {\n",
       "        text-align: right;\n",
       "    }\n",
       "</style>\n",
       "<table border=\"1\" class=\"dataframe\">\n",
       "  <thead>\n",
       "    <tr style=\"text-align: right;\">\n",
       "      <th></th>\n",
       "      <th>time</th>\n",
       "      <th>timestamp</th>\n",
       "      <th>IP</th>\n",
       "      <th>Ethernet</th>\n",
       "      <th>TCP</th>\n",
       "      <th>UDP</th>\n",
       "      <th>DNS</th>\n",
       "    </tr>\n",
       "  </thead>\n",
       "  <tbody>\n",
       "    <tr>\n",
       "      <th>37</th>\n",
       "      <td>1.084443e+09</td>\n",
       "      <td>2004-05-13 10:17:12.158193</td>\n",
       "      <td>{'version': 4, 'ttl': 47, 'proto': 6, 'options...</td>\n",
       "      <td>{'src': 'fe:ff:20:00:01:00', 'type': 2048, 'ds...</td>\n",
       "      <td>{'reserved': 0, 'window': 6432, 'flags': 24, '...</td>\n",
       "      <td>NaN</td>\n",
       "      <td>NaN</td>\n",
       "    </tr>\n",
       "    <tr>\n",
       "      <th>10</th>\n",
       "      <td>1.084443e+09</td>\n",
       "      <td>2004-05-13 10:17:09.864896</td>\n",
       "      <td>{'version': 4, 'ttl': 47, 'proto': 6, 'options...</td>\n",
       "      <td>{'src': 'fe:ff:20:00:01:00', 'type': 2048, 'ds...</td>\n",
       "      <td>{'reserved': 0, 'window': 6432, 'flags': 24, '...</td>\n",
       "      <td>NaN</td>\n",
       "      <td>NaN</td>\n",
       "    </tr>\n",
       "    <tr>\n",
       "      <th>6</th>\n",
       "      <td>1.084443e+09</td>\n",
       "      <td>2004-05-13 10:17:09.123830</td>\n",
       "      <td>{'version': 4, 'ttl': 128, 'proto': 6, 'option...</td>\n",
       "      <td>{'src': '00:00:01:00:00:00', 'type': 2048, 'ds...</td>\n",
       "      <td>{'reserved': 0, 'window': 9660, 'sport': 3372,...</td>\n",
       "      <td>NaN</td>\n",
       "      <td>NaN</td>\n",
       "    </tr>\n",
       "    <tr>\n",
       "      <th>36</th>\n",
       "      <td>1.084443e+09</td>\n",
       "      <td>2004-05-13 10:17:12.088092</td>\n",
       "      <td>{'version': 4, 'ttl': 128, 'proto': 6, 'option...</td>\n",
       "      <td>{'src': '00:00:01:00:00:00', 'type': 2048, 'ds...</td>\n",
       "      <td>{'reserved': 0, 'window': 8760, 'sport': 3371,...</td>\n",
       "      <td>NaN</td>\n",
       "      <td>NaN</td>\n",
       "    </tr>\n",
       "    <tr>\n",
       "      <th>5</th>\n",
       "      <td>1.084443e+09</td>\n",
       "      <td>2004-05-13 10:17:08.993643</td>\n",
       "      <td>{'version': 4, 'ttl': 47, 'proto': 6, 'options...</td>\n",
       "      <td>{'src': 'fe:ff:20:00:01:00', 'type': 2048, 'ds...</td>\n",
       "      <td>{'reserved': 0, 'window': 6432, 'flags': 16, '...</td>\n",
       "      <td>NaN</td>\n",
       "      <td>NaN</td>\n",
       "    </tr>\n",
       "  </tbody>\n",
       "</table>\n",
       "</div>"
      ],
      "text/plain": [
       "            time                  timestamp  \\\n",
       "37  1.084443e+09 2004-05-13 10:17:12.158193   \n",
       "10  1.084443e+09 2004-05-13 10:17:09.864896   \n",
       "6   1.084443e+09 2004-05-13 10:17:09.123830   \n",
       "36  1.084443e+09 2004-05-13 10:17:12.088092   \n",
       "5   1.084443e+09 2004-05-13 10:17:08.993643   \n",
       "\n",
       "                                                   IP  \\\n",
       "37  {'version': 4, 'ttl': 47, 'proto': 6, 'options...   \n",
       "10  {'version': 4, 'ttl': 47, 'proto': 6, 'options...   \n",
       "6   {'version': 4, 'ttl': 128, 'proto': 6, 'option...   \n",
       "36  {'version': 4, 'ttl': 128, 'proto': 6, 'option...   \n",
       "5   {'version': 4, 'ttl': 47, 'proto': 6, 'options...   \n",
       "\n",
       "                                             Ethernet  \\\n",
       "37  {'src': 'fe:ff:20:00:01:00', 'type': 2048, 'ds...   \n",
       "10  {'src': 'fe:ff:20:00:01:00', 'type': 2048, 'ds...   \n",
       "6   {'src': '00:00:01:00:00:00', 'type': 2048, 'ds...   \n",
       "36  {'src': '00:00:01:00:00:00', 'type': 2048, 'ds...   \n",
       "5   {'src': 'fe:ff:20:00:01:00', 'type': 2048, 'ds...   \n",
       "\n",
       "                                                  TCP  UDP  DNS  \n",
       "37  {'reserved': 0, 'window': 6432, 'flags': 24, '...  NaN  NaN  \n",
       "10  {'reserved': 0, 'window': 6432, 'flags': 24, '...  NaN  NaN  \n",
       "6   {'reserved': 0, 'window': 9660, 'sport': 3372,...  NaN  NaN  \n",
       "36  {'reserved': 0, 'window': 8760, 'sport': 3371,...  NaN  NaN  \n",
       "5   {'reserved': 0, 'window': 6432, 'flags': 16, '...  NaN  NaN  "
      ]
     },
     "execution_count": 43,
     "metadata": {},
     "output_type": "execute_result"
    }
   ],
   "source": [
    "df1.sample(5)"
   ]
  },
  {
   "cell_type": "code",
   "execution_count": 44,
   "metadata": {
    "ExecuteTime": {
     "end_time": "2020-09-29T06:51:34.689141Z",
     "start_time": "2020-09-29T06:51:34.683601Z"
    }
   },
   "outputs": [
    {
     "data": {
      "text/plain": [
       "TCP.sport\n",
       "80.0      22\n",
       "3372.0    16\n",
       "3371.0     3\n",
       "NaN        2\n",
       "Name: count, dtype: int64"
      ]
     },
     "execution_count": 44,
     "metadata": {},
     "output_type": "execute_result"
    }
   ],
   "source": [
    "#Extract the source port and count the unique values\n",
    "df['TCP.sport'].value_counts(dropna=False)"
   ]
  },
  {
   "cell_type": "code",
   "execution_count": 45,
   "metadata": {
    "ExecuteTime": {
     "end_time": "2020-09-29T06:51:40.716600Z",
     "start_time": "2020-09-29T06:51:40.711461Z"
    }
   },
   "outputs": [
    {
     "data": {
      "text/plain": [
       "IP.src\n",
       "145.254.160.237    20\n",
       "65.208.228.223     18\n",
       "216.239.59.99       4\n",
       "145.253.2.203       1\n",
       "Name: count, dtype: int64"
      ]
     },
     "execution_count": 45,
     "metadata": {},
     "output_type": "execute_result"
    }
   ],
   "source": [
    "#Extract the source IP and count the unique values\n",
    "df['IP.src'].value_counts(dropna=False)"
   ]
  },
  {
   "cell_type": "code",
   "execution_count": null,
   "metadata": {},
   "outputs": [],
   "source": []
  }
 ],
 "metadata": {
  "kernelspec": {
   "display_name": "Python 3 (ipykernel)",
   "language": "python",
   "name": "python3"
  },
  "language_info": {
   "codemirror_mode": {
    "name": "ipython",
    "version": 3
   },
   "file_extension": ".py",
   "mimetype": "text/x-python",
   "name": "python",
   "nbconvert_exporter": "python",
   "pygments_lexer": "ipython3",
   "version": "3.11.13"
  },
  "toc": {
   "base_numbering": 1,
   "nav_menu": {},
   "number_sections": false,
   "sideBar": false,
   "skip_h1_title": false,
   "title_cell": "Table of Contents",
   "title_sidebar": "Contents",
   "toc_cell": false,
   "toc_position": {},
   "toc_section_display": false,
   "toc_window_display": false
  },
  "varInspector": {
   "cols": {
    "lenName": 16,
    "lenType": 16,
    "lenVar": 40
   },
   "kernels_config": {
    "python": {
     "delete_cmd_postfix": "",
     "delete_cmd_prefix": "del ",
     "library": "var_list.py",
     "varRefreshCmd": "print(var_dic_list())"
    },
    "r": {
     "delete_cmd_postfix": ") ",
     "delete_cmd_prefix": "rm(",
     "library": "var_list.r",
     "varRefreshCmd": "cat(var_dic_list()) "
    }
   },
   "types_to_exclude": [
    "module",
    "function",
    "builtin_function_or_method",
    "instance",
    "_Feature"
   ],
   "window_display": false
  },
  "widgets": {
   "application/vnd.jupyter.widget-state+json": {
    "state": {},
    "version_major": 2,
    "version_minor": 0
   }
  }
 },
 "nbformat": 4,
 "nbformat_minor": 4
}
