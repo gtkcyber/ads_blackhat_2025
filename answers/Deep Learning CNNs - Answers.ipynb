{
 "cells": [
  {
   "cell_type": "markdown",
   "metadata": {},
   "source": [
    "\n",
    "<img src=\"../img/GTK_Logo_Social Icon.jpg\" width=175 align=\"right\" />\n",
    "\n",
    "## Deep learning: Convolutional Neural Newtorks\n",
    "\n",
    "This notebook shows how to build a CNN to classify images. We will use [Keras](https://keras.io/) is used as high-level API for [tensorflow](https://www.tensorflow.org/) backend). "
   ]
  },
  {
   "cell_type": "code",
   "execution_count": 2,
   "metadata": {},
   "outputs": [
    {
     "name": "stdout",
     "output_type": "stream",
     "text": [
      "Retrieving notices: ...working... done\n",
      "Channels:\n",
      " - https://conda.binstar.org/menpo\n",
      " - defaults\n",
      " - conda-forge\n",
      "Platform: osx-64\n",
      "Collecting package metadata (repodata.json): failed\n",
      "\n",
      "UnavailableInvalidChannel: HTTP 404 NOT FOUND for channel menpo <https://conda.binstar.org/menpo>\n",
      "\n",
      "The channel is not accessible or is invalid.\n",
      "\n",
      "You will need to adjust your conda configuration to proceed.\n",
      "Use `conda config --show channels` to view your configuration's current state,\n",
      "and use `conda config --show-sources` to view config file locations.\n",
      "\n",
      "\n",
      "\n",
      "Note: you may need to restart the kernel to use updated packages.\n"
     ]
    }
   ],
   "source": [
    "conda install -c https://conda.binstar.org/menpo opencv"
   ]
  },
  {
   "cell_type": "code",
   "execution_count": null,
   "metadata": {},
   "outputs": [],
   "source": [
    "from keras import backend as K\n",
    "from keras.utils.np_utils import convert_kernel\n",
    "\n",
    "from keras.models import Sequential\n",
    "from keras.layers.core import Flatten, Dense, Dropout, Activation\n",
    "from keras.layers.convolutional import Convolution2D, MaxPooling2D, ZeroPadding2D\n",
    "from keras.optimizers import SGD"
   ]
  },
  {
   "cell_type": "code",
   "execution_count": 14,
   "metadata": {
    "ExecuteTime": {
     "end_time": "2023-08-02T00:57:06.144447Z",
     "start_time": "2023-08-02T00:56:57.002456Z"
    }
   },
   "outputs": [],
   "source": [
    "#import cv2\n",
    "import numpy as np\n",
    "import pandas as pd\n",
    "import matplotlib.pyplot as plt\n",
    "plt.style.use('ggplot')"
   ]
  },
  {
   "cell_type": "markdown",
   "metadata": {},
   "source": [
    "## Preprocess raw URLs"
   ]
  },
  {
   "cell_type": "code",
   "execution_count": 12,
   "metadata": {
    "ExecuteTime": {
     "end_time": "2023-08-02T00:57:09.307337Z",
     "start_time": "2023-08-02T00:57:09.090397Z"
    }
   },
   "outputs": [
    {
     "data": {
      "text/plain": [
       "(334772, 9, 9, 1)"
      ]
     },
     "execution_count": 12,
     "metadata": {},
     "output_type": "execute_result"
    }
   ],
   "source": [
    "## Load data URL\n",
    "\n",
    "DATA_HOME = '/Volumes/ext200/Dropbox/CIC-IDS/X_test_images_b.npy'\n",
    "x_test_images_b = np.load(DATA_HOME)\n",
    "x_test_images_b.shape"
   ]
  },
  {
   "cell_type": "code",
   "execution_count": 15,
   "metadata": {},
   "outputs": [
    {
     "data": {
      "image/png": "[encoded data removed]",
      "text/plain": [
       "<Figure size 640x480 with 2 Axes>"
      ]
     },
     "metadata": {},
     "output_type": "display_data"
    }
   ],
   "source": [
    "plt.imshow(x_test_images_b[0])\n",
    "plt.colorbar()\n",
    "plt.show()"
   ]
  },
  {
   "cell_type": "code",
   "execution_count": null,
   "metadata": {},
   "outputs": [],
   "source": [
    "\n",
    "# Define initializers\n",
    "conv_initializer   = HeNormal(seed=seed_pi)\n",
    "dense_initializer  = HeUniform(seed=seed_pi)\n",
    "output_initializer = GlorotUniform(seed=seed_pi)\n",
    "\n",
    "model_0 = Sequential([\n",
    "    Input(shape=(9, 9, 1)),\n",
    "    Conv2D(32, kernel_size=(3, 3), activation='relu', kernel_initializer=conv_initializer),\n",
    "    MaxPooling2D(pool_size=(2, 2)),\n",
    "    Flatten(),\n",
    "    Dense(128, activation = 'relu', kernel_initializer = dense_initializer),\n",
    "    Dense(1, activation = 'sigmoid', kernel_initializer = output_initializer)])\n",
    "\n",
    "\n",
    "model_0.summary()"
   ]
  },
  {
   "cell_type": "code",
   "execution_count": null,
   "metadata": {},
   "outputs": [],
   "source": [
    "# Define Early Stopping callback to monitor validation loss\n",
    "early_stopping = EarlyStopping(\n",
    "    monitor='val_accuracy',    # Monitor validation accuracy\n",
    "    patience=10,               # Stop training after 10 epochs with no improvement\n",
    "    verbose=1,                 # Provide verbose output when early stopping is triggered\n",
    "    restore_best_weights=True) # Restore model weights with best validation loss\n",
    "\n",
    "# Define ReduceLROnPlateau scheduler, LR:Learning Rate\n",
    "reduce_lr = ReduceLROnPlateau( \n",
    "    monitor='val_accuracy',    # Monitor validation accuracy\n",
    "    patience= 5,               # Default value for patience is 10\n",
    "    min_lr= 1e-07,             # min_lr: Minimum learning rate (deafault value=0.0001)\n",
    "    verbose=1,                 # Provide verbose output when learning rate is reduced\n",
    "    factor= 0.1)               # The default factor is 0.1, which reduces \n",
    "                               # the learning rate by 10% when triggered.    \n",
    "\n",
    "# Compile the model with Adam optimizer, binary crossentropy loss, and accuracy metrics\n",
    "model_0.compile(optimizer='adam', loss='binary_crossentropy', metrics=['accuracy'])"
   ]
  },
  {
   "cell_type": "code",
   "execution_count": null,
   "metadata": {},
   "outputs": [],
   "source": [
    "history_0  = model_0.fit(X_train_images, y_train, validation_data=(X_val_images, y_val), epochs=250, \n",
    "    batch_size=1024, callbacks=[early_stopping, reduce_lr])"
   ]
  },
  {
   "cell_type": "code",
   "execution_count": null,
   "metadata": {},
   "outputs": [],
   "source": [
    "# Evaluate the model on the test set\n",
    "test_loss, test_accuracy = model_0.evaluate(X_test_images, y_test)\n",
    "\n",
    "# Make predictions on the test set\n",
    "y_pred = model_0.predict(X_test_images)\n",
    "\n",
    "# Convert predicted probabilities to class labels\n",
    "y_pred_labels = (y_pred > 0.5).astype(int)\n",
    "\n",
    "# Calculate precision, recall, and F1 score\n",
    "precision = precision_score(y_test, y_pred_labels)\n",
    "recall    = recall_score(y_test, y_pred_labels)\n",
    "f1        = f1_score(y_test, y_pred_labels)\n",
    "\n",
    "# Print the evaluation metrics\n",
    "print(f\"Test Loss:      {test_loss:.4f}\")\n",
    "print(f\"Test Accuracy:  {test_accuracy*100:.2f}%\")\n",
    "print(f\"Test Precision: {precision*100:.2f}%\")\n",
    "print(f\"Test Recall:    {recall*100:.2f}%\")\n",
    "print(f\"Test F1 Score:  {f1*100:.2f}%\")"
   ]
  },
  {
   "cell_type": "code",
   "execution_count": null,
   "metadata": {},
   "outputs": [],
   "source": [
    "train_loss = history_0.history['loss']\n",
    "val_loss   = history_0.history['val_loss']\n",
    "train_acc  = history_0.history['accuracy']\n",
    "val_acc    = history_0.history['val_accuracy']\n",
    "\n",
    "# Create a figure and axes for subplots\n",
    "fig, axes = plt.subplots(nrows=2, ncols=1, figsize=(10, 12))\n",
    "\n",
    "# Plot loss curves\n",
    "sns.lineplot(x=range(len(train_loss)), y=train_loss, ax=axes[0], label='Training Loss')\n",
    "sns.lineplot(x=range(len(val_loss)),   y=val_loss, ax=axes[0], label='Validation Loss')\n",
    "axes[0].set_xlabel('Epoch')\n",
    "axes[0].set_ylabel('Loss')\n",
    "axes[0].set_title('Training and Validation Loss for Binary Classification')\n",
    "axes[0].legend()\n",
    "axes[0].grid(True)\n",
    "\n",
    "# Plot accuracy curves\n",
    "sns.lineplot(x=range(len(train_acc)), y=train_acc, ax=axes[1], label='Training Accuracy')\n",
    "sns.lineplot(x=range(len(val_acc)),   y=val_acc, ax=axes[1], label='Validation Accuracy')\n",
    "axes[1].set_xlabel('Epoch')\n",
    "axes[1].set_ylabel('Accuracy')\n",
    "axes[1].set_title('Training and Validation Accuracy for Binary Classification')\n",
    "axes[1].legend()\n",
    "axes[1].grid(True)\n",
    "\n",
    "# Adjust layout\n",
    "plt.tight_layout()\n",
    "\n",
    "# Display the plot\n",
    "plt.show()"
   ]
  },
  {
   "cell_type": "markdown",
   "metadata": {},
   "source": [
    "## Multiclass configuration"
   ]
  },
  {
   "cell_type": "code",
   "execution_count": null,
   "metadata": {},
   "outputs": [],
   "source": [
    "# Extract features as X\n",
    "X = df_data.copy()\n",
    "X = df_data.drop('Label', axis=1)\n",
    "\n",
    "# Extract target as y\n",
    "y = df_data['Label']\n",
    "\n",
    "label_encoder = LabelEncoder()\n",
    "y_encoded = label_encoder.fit_transform(y)\n",
    "y = pd.Series(y_encoded)\n",
    "\n",
    "# Inspect encoding\n",
    "print('Inspection of Target Feature - y under Multiclass Configuration:\\n')\n",
    "y.value_counts()"
   ]
  },
  {
   "cell_type": "markdown",
   "metadata": {},
   "source": [
    "Plotting the distribution of the target variable y_encoded_sorted\n"
   ]
  },
  {
   "cell_type": "code",
   "execution_count": null,
   "metadata": {},
   "outputs": [],
   "source": [
    "plt.figure(figsize=(10, 6))\n",
    "sns.countplot(y=y, palette='Paired')\n",
    "plt.title('Distribution of Target Variable')\n",
    "plt.xlabel('Encoded Target Class')\n",
    "plt.ylabel('Count')\n",
    "plt.show()\n",
    "\n",
    "# Calculate the count and ratio of each class\n",
    "class_counts = y.value_counts()\n",
    "class_ratios = class_counts / len(y)\n",
    "\n",
    "# Print the ratio of each class\n",
    "for label, ratio in class_ratios.items():\n",
    "    if label < 10:\n",
    "        print(f\"Class {label}  ratio: {ratio*100:.4f}%\")\n",
    "    else:\n",
    "        print(f\"Class {label} ratio: {ratio*100:.4f}%\")"
   ]
  },
  {
   "cell_type": "code",
   "execution_count": null,
   "metadata": {},
   "outputs": [],
   "source": []
  },
  {
   "cell_type": "code",
   "execution_count": null,
   "metadata": {},
   "outputs": [],
   "source": [
    "Extract all sets with percentages: 75-10-15 (%) under multiclass configuration\n",
    "\n",
    "X_train, X_val, X_test, y_train, y_val, y_test = extractAllSets(X, y, 0.75, 0.10, 0.15)\n",
    "\n",
    "# Organize all sets in list format\n",
    "original_data = [X_train, X_val, X_test, y_train, y_val, y_test]"
   ]
  },
  {
   "cell_type": "code",
   "execution_count": null,
   "metadata": {},
   "outputs": [],
   "source": [
    "Conversion to greyscale images\n",
    "\n",
    "# Define the Tab2Img model\n",
    "model_tab2img = Tab2Img()\n",
    "\n",
    "\"\"\" In this stage, every sample in the data becomes a (9x9) numpy array. \"\"\"\n",
    "# Convert training data\n",
    "X_train_images = model_tab2img.fit_transform(X_train_transformed, y_train.values)\n",
    "\n",
    "# Convert validation and test data (using the fitted model)\n",
    "X_val_images  = model_tab2img.transform(X_val_transformed)\n",
    "X_test_images = model_tab2img.transform(X_test_transformed)\n",
    "\n",
    "\"\"\" In this stage, every array in the data becomes a (9x9x1) greyscale image. \"\"\"\n",
    "# Greyscale Transformation - Reshape the image data for CNN input\n",
    "X_train_images = X_train_images.reshape(-1, 9, 9, 1)\n",
    "X_val_images   = X_val_images.reshape(  -1, 9, 9, 1)\n",
    "X_test_images  = X_test_images.reshape( -1, 9, 9, 1)\n",
    "\n",
    "# Visualize an example\n",
    "plt.imshow(X_train_images[0])\n",
    "plt.colorbar()\n",
    "plt.show()"
   ]
  },
  {
   "cell_type": "markdown",
   "metadata": {},
   "source": [
    "During this segment, the original model is modified to be adjusted for multiclass classification; Aside the output layer and the loss function, exactly the same architecture is utilized, with the same hyperparameters. Due to its different output layer (15 units instead of 1), it has about ~ 2,000 extra parameters. Evaluated on the same metrics, it achieves state-of-the-art results."
   ]
  },
  {
   "cell_type": "code",
   "execution_count": null,
   "metadata": {},
   "outputs": [],
   "source": [
    "Define the model architecture\n",
    "\n",
    "# Define initializers\n",
    "conv_initializer   = HeNormal(seed=seed_pi)\n",
    "dense_initializer  = HeUniform(seed=seed_pi)\n",
    "output_initializer = GlorotUniform(seed=seed_pi)\n",
    "\n",
    "# Adjust ouput layer\n",
    "num_classes = len(class_counts) \n",
    "\n",
    "model_1 = Sequential([\n",
    "    Input(shape=(9, 9, 1)),\n",
    "    Conv2D(32, kernel_size=(3, 3), activation='relu', kernel_initializer=conv_initializer),\n",
    "    MaxPooling2D(pool_size=(2, 2)),\n",
    "    Flatten(),\n",
    "    Dense(128, activation='relu', kernel_initializer=dense_initializer),\n",
    "    Dense(num_classes, activation='softmax', kernel_initializer=output_initializer)\n",
    "])\n",
    "\n",
    "# Print model summary\n",
    "model_1.summary()"
   ]
  },
  {
   "cell_type": "code",
   "execution_count": null,
   "metadata": {},
   "outputs": [],
   "source": []
  },
  {
   "cell_type": "code",
   "execution_count": null,
   "metadata": {},
   "outputs": [],
   "source": []
  },
  {
   "cell_type": "code",
   "execution_count": null,
   "metadata": {},
   "outputs": [],
   "source": []
  }
 ],
 "metadata": {
  "kernelspec": {
   "display_name": "Python 3 (ipykernel)",
   "language": "python",
   "name": "python3"
  },
  "language_info": {
   "codemirror_mode": {
    "name": "ipython",
    "version": 3
   },
   "file_extension": ".py",
   "mimetype": "text/x-python",
   "name": "python",
   "nbconvert_exporter": "python",
   "pygments_lexer": "ipython3",
   "version": "3.11.13"
  },
  "varInspector": {
   "cols": {
    "lenName": 16,
    "lenType": 16,
    "lenVar": 40
   },
   "kernels_config": {
    "python": {
     "delete_cmd_postfix": "",
     "delete_cmd_prefix": "del ",
     "library": "var_list.py",
     "varRefreshCmd": "print(var_dic_list())"
    },
    "r": {
     "delete_cmd_postfix": ") ",
     "delete_cmd_prefix": "rm(",
     "library": "var_list.r",
     "varRefreshCmd": "cat(var_dic_list()) "
    }
   },
   "types_to_exclude": [
    "module",
    "function",
    "builtin_function_or_method",
    "instance",
    "_Feature"
   ],
   "window_display": false
  },
  "widgets": {
   "application/vnd.jupyter.widget-state+json": {
    "state": {},
    "version_major": 2,
    "version_minor": 0
   }
  }
 },
 "nbformat": 4,
 "nbformat_minor": 4
}
